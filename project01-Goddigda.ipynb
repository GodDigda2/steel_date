{
 "cells": [
  {
   "cell_type": "code",
   "execution_count": 1,
   "metadata": {},
   "outputs": [],
   "source": [
    "import pandas as pd\n",
    "\n",
    "df = pd.read_csv('steel_date.csv')"
   ]
  },
  {
   "cell_type": "code",
   "execution_count": 2,
   "metadata": {},
   "outputs": [
    {
     "data": {
      "text/html": [
       "<div>\n",
       "<style scoped>\n",
       "    .dataframe tbody tr th:only-of-type {\n",
       "        vertical-align: middle;\n",
       "    }\n",
       "\n",
       "    .dataframe tbody tr th {\n",
       "        vertical-align: top;\n",
       "    }\n",
       "\n",
       "    .dataframe thead th {\n",
       "        text-align: right;\n",
       "    }\n",
       "</style>\n",
       "<table border=\"1\" class=\"dataframe\">\n",
       "  <thead>\n",
       "    <tr style=\"text-align: right;\">\n",
       "      <th></th>\n",
       "      <th>Unnamed: 0</th>\n",
       "      <th>PLATE_NO</th>\n",
       "      <th>ROLLING_DATE</th>\n",
       "      <th>SCALE</th>\n",
       "      <th>SPEC</th>\n",
       "      <th>STEEL_KIND</th>\n",
       "      <th>PT_THK</th>\n",
       "      <th>PT_WDTH</th>\n",
       "      <th>PT_LTH</th>\n",
       "      <th>PT_WGT</th>\n",
       "      <th>...</th>\n",
       "      <th>FUR_HZ_TEMP</th>\n",
       "      <th>FUR_HZ_TIME</th>\n",
       "      <th>FUR_SZ_TEMP</th>\n",
       "      <th>FUR_SZ_TIME</th>\n",
       "      <th>FUR_TIME</th>\n",
       "      <th>FUR_EXTEMP</th>\n",
       "      <th>ROLLING_TEMP_T5</th>\n",
       "      <th>HSB</th>\n",
       "      <th>ROLLING_DESCALING</th>\n",
       "      <th>WORK_GR</th>\n",
       "    </tr>\n",
       "  </thead>\n",
       "  <tbody>\n",
       "    <tr>\n",
       "      <th>0</th>\n",
       "      <td>0</td>\n",
       "      <td>PB562774</td>\n",
       "      <td>2008-08-01:00:00:15</td>\n",
       "      <td>양품</td>\n",
       "      <td>AB/EH32-TM</td>\n",
       "      <td>T1</td>\n",
       "      <td>32.25</td>\n",
       "      <td>3707</td>\n",
       "      <td>15109</td>\n",
       "      <td>14180</td>\n",
       "      <td>...</td>\n",
       "      <td>1144</td>\n",
       "      <td>116</td>\n",
       "      <td>1133</td>\n",
       "      <td>59</td>\n",
       "      <td>282</td>\n",
       "      <td>1133</td>\n",
       "      <td>934</td>\n",
       "      <td>적용</td>\n",
       "      <td>8</td>\n",
       "      <td>2조</td>\n",
       "    </tr>\n",
       "    <tr>\n",
       "      <th>1</th>\n",
       "      <td>1</td>\n",
       "      <td>PB562775</td>\n",
       "      <td>2008-08-01:00:00:16</td>\n",
       "      <td>양품</td>\n",
       "      <td>AB/EH32-TM</td>\n",
       "      <td>T1</td>\n",
       "      <td>32.25</td>\n",
       "      <td>3707</td>\n",
       "      <td>15109</td>\n",
       "      <td>14180</td>\n",
       "      <td>...</td>\n",
       "      <td>1144</td>\n",
       "      <td>122</td>\n",
       "      <td>1135</td>\n",
       "      <td>53</td>\n",
       "      <td>283</td>\n",
       "      <td>1135</td>\n",
       "      <td>937</td>\n",
       "      <td>적용</td>\n",
       "      <td>8</td>\n",
       "      <td>2조</td>\n",
       "    </tr>\n",
       "    <tr>\n",
       "      <th>2</th>\n",
       "      <td>2</td>\n",
       "      <td>PB562776</td>\n",
       "      <td>2008-08-01:00:00:59</td>\n",
       "      <td>양품</td>\n",
       "      <td>NV-E36-TM</td>\n",
       "      <td>T8</td>\n",
       "      <td>33.27</td>\n",
       "      <td>3619</td>\n",
       "      <td>19181</td>\n",
       "      <td>18130</td>\n",
       "      <td>...</td>\n",
       "      <td>1129</td>\n",
       "      <td>116</td>\n",
       "      <td>1121</td>\n",
       "      <td>55</td>\n",
       "      <td>282</td>\n",
       "      <td>1121</td>\n",
       "      <td>889</td>\n",
       "      <td>적용</td>\n",
       "      <td>8</td>\n",
       "      <td>3조</td>\n",
       "    </tr>\n",
       "    <tr>\n",
       "      <th>3</th>\n",
       "      <td>3</td>\n",
       "      <td>PB562777</td>\n",
       "      <td>2008-08-01:00:01:24</td>\n",
       "      <td>양품</td>\n",
       "      <td>NV-E36-TM</td>\n",
       "      <td>T8</td>\n",
       "      <td>33.27</td>\n",
       "      <td>3619</td>\n",
       "      <td>19181</td>\n",
       "      <td>18130</td>\n",
       "      <td>...</td>\n",
       "      <td>1152</td>\n",
       "      <td>125</td>\n",
       "      <td>1127</td>\n",
       "      <td>68</td>\n",
       "      <td>316</td>\n",
       "      <td>1127</td>\n",
       "      <td>885</td>\n",
       "      <td>적용</td>\n",
       "      <td>8</td>\n",
       "      <td>3조</td>\n",
       "    </tr>\n",
       "    <tr>\n",
       "      <th>4</th>\n",
       "      <td>4</td>\n",
       "      <td>PB562778</td>\n",
       "      <td>2008-08-01:00:01:44</td>\n",
       "      <td>양품</td>\n",
       "      <td>BV-EH36-TM</td>\n",
       "      <td>T8</td>\n",
       "      <td>38.33</td>\n",
       "      <td>3098</td>\n",
       "      <td>13334</td>\n",
       "      <td>12430</td>\n",
       "      <td>...</td>\n",
       "      <td>1140</td>\n",
       "      <td>134</td>\n",
       "      <td>1128</td>\n",
       "      <td>48</td>\n",
       "      <td>314</td>\n",
       "      <td>1128</td>\n",
       "      <td>873</td>\n",
       "      <td>적용</td>\n",
       "      <td>8</td>\n",
       "      <td>1조</td>\n",
       "    </tr>\n",
       "  </tbody>\n",
       "</table>\n",
       "<p>5 rows × 22 columns</p>\n",
       "</div>"
      ],
      "text/plain": [
       "   Unnamed: 0  PLATE_NO         ROLLING_DATE SCALE        SPEC STEEL_KIND  \\\n",
       "0           0  PB562774  2008-08-01:00:00:15    양품  AB/EH32-TM         T1   \n",
       "1           1  PB562775  2008-08-01:00:00:16    양품  AB/EH32-TM         T1   \n",
       "2           2  PB562776  2008-08-01:00:00:59    양품   NV-E36-TM         T8   \n",
       "3           3  PB562777  2008-08-01:00:01:24    양품   NV-E36-TM         T8   \n",
       "4           4  PB562778  2008-08-01:00:01:44    양품  BV-EH36-TM         T8   \n",
       "\n",
       "   PT_THK  PT_WDTH  PT_LTH  PT_WGT  ... FUR_HZ_TEMP  FUR_HZ_TIME  FUR_SZ_TEMP  \\\n",
       "0   32.25     3707   15109   14180  ...        1144          116         1133   \n",
       "1   32.25     3707   15109   14180  ...        1144          122         1135   \n",
       "2   33.27     3619   19181   18130  ...        1129          116         1121   \n",
       "3   33.27     3619   19181   18130  ...        1152          125         1127   \n",
       "4   38.33     3098   13334   12430  ...        1140          134         1128   \n",
       "\n",
       "   FUR_SZ_TIME  FUR_TIME  FUR_EXTEMP  ROLLING_TEMP_T5  HSB  ROLLING_DESCALING  \\\n",
       "0           59       282        1133              934   적용                  8   \n",
       "1           53       283        1135              937   적용                  8   \n",
       "2           55       282        1121              889   적용                  8   \n",
       "3           68       316        1127              885   적용                  8   \n",
       "4           48       314        1128              873   적용                  8   \n",
       "\n",
       "  WORK_GR  \n",
       "0      2조  \n",
       "1      2조  \n",
       "2      3조  \n",
       "3      3조  \n",
       "4      1조  \n",
       "\n",
       "[5 rows x 22 columns]"
      ]
     },
     "execution_count": 2,
     "metadata": {},
     "output_type": "execute_result"
    }
   ],
   "source": [
    "df.head()"
   ]
  },
  {
   "cell_type": "code",
   "execution_count": 5,
   "metadata": {},
   "outputs": [
    {
     "data": {
      "text/plain": [
       "array(['1호기', '2호기', '3호기'], dtype=object)"
      ]
     },
     "execution_count": 5,
     "metadata": {},
     "output_type": "execute_result"
    }
   ],
   "source": [
    "df['FUR_NO'].unique()\n"
   ]
  },
  {
   "cell_type": "code",
   "execution_count": 6,
   "metadata": {},
   "outputs": [
    {
     "data": {
      "text/plain": [
       "array([1, 2], dtype=int64)"
      ]
     },
     "execution_count": 6,
     "metadata": {},
     "output_type": "execute_result"
    }
   ],
   "source": [
    "df['FUR_NO_ROW'].unique()"
   ]
  },
  {
   "cell_type": "code",
   "execution_count": 12,
   "metadata": {},
   "outputs": [
    {
     "data": {
      "text/plain": [
       "9"
      ]
     },
     "execution_count": 12,
     "metadata": {},
     "output_type": "execute_result"
    }
   ],
   "source": [
    "df['STEEL_KIND'].unique()\n",
    "#철의 종류는 9개\n",
    "len(df['STEEL_KIND'].unique())\n"
   ]
  },
  {
   "cell_type": "code",
   "execution_count": 14,
   "metadata": {},
   "outputs": [
    {
     "name": "stdout",
     "output_type": "stream",
     "text": [
      "['AB/EH32-TM' 'NV-E36-TM' 'BV-EH36-TM' 'COMMON' 'GL-E32-TM' 'GL-E36-TM'\n",
      " 'AB/EH36-TM' 'KS-HSB600' 'LR-EH36-TM' 'BV-B' 'LR-B' 'JS-SM490YB' 'KR-B'\n",
      " 'LR-A' 'JS-SM490A' 'KS-SM400B' 'JS-SM400B' 'AB/B' 'KS-SS400' 'KR-A'\n",
      " 'NV-A' 'JS-SS400' 'KS-SM400A' 'KS-SM490B' 'V42JBN3' 'BV-AH32'\n",
      " 'JS-SM490YA' 'AB/AH32' 'LR-AH32' 'NV-B' 'NV-A32' 'KS-SM490A' 'NK-KA32'\n",
      " 'GL-A32' 'AB/A' 'LR-AH36' 'A709-36' 'KR-AH32' 'A516-60' 'GL-A' 'NK-KA'\n",
      " 'NV-D36-TM' 'NK-KA32-TM' 'GL-A32-TM' 'LR-AH36-TM' 'LR-EH32-TM'\n",
      " 'NV-E32-TM' 'KS-HSB500' 'API-2W-50T' 'GL-A36-TM' 'BV-EH32-TM' 'NV-A32-TM'\n",
      " 'NV-D32-TM' 'NK-KD36-TM' 'GL-D36-TM' 'PILAC-BT33' 'BV-AH32-TM'\n",
      " 'BV-AH36-TM' 'NV-A36-TM' 'A131-DH36TM' 'BV-AH36-TL' 'BV-A' 'CCS-B'\n",
      " 'A283-C' 'SA283-C' 'JS-SM400A']\n",
      "66\n"
     ]
    }
   ],
   "source": [
    "print(df['SPEC'].unique())\n",
    "\n",
    "print(len(df['SPEC'].unique()))\n",
    "#스펙은 66개"
   ]
  },
  {
   "cell_type": "markdown",
   "metadata": {},
   "source": [
    "### 생산 시설은 3개 [1호, 2호, 3호]\n",
    "각 호마다 1과 2로 생산라인이 분류되어 있음\n",
    " - 6개의 철 종류\n",
    " - 66개의 스펙"
   ]
  },
  {
   "cell_type": "code",
   "execution_count": 17,
   "metadata": {},
   "outputs": [
    {
     "name": "stdout",
     "output_type": "stream",
     "text": [
      "[ 32.25   33.27   38.33   38.43   30.23   34.28   50.46   44.39   48.44\n",
      "  45.4    44.9    51.27   55.51   55.5    40.     60.58   64.489  60.63\n",
      "  64.12   60.57   65.64   67.65   65.69   70.7    73.71   70.6    75.71\n",
      "  75.81   83.32   89.63   20.13   17.1    14.09   20.43   16.09   15.59\n",
      "  18.1    17.4    20.1    21.11   14.06   15.09   15.38   16.6    18.11\n",
      "  18.62   19.13   21.15   22.16   22.66   25.12   30.     35.15   40.16\n",
      "  55.2    80.28   32.06   22.15   22.2    21.14   20.18   19.62   19.1\n",
      "  19.12   18.4    18.16   30.13   30.24   50.19   38.16   25.18   24.17\n",
      "  19.63   15.08   20.     20.14   23.16   25.19   26.24   24.11   24.18\n",
      "  20.44   20.63   17.6    16.39   14.07   13.06   13.56   12.05   21.64\n",
      "  21.94   19.42   20.42   17.09   15.58   12.8    12.03   13.54   14.05\n",
      "  16.059  18.09   21.43   24.14   23.66   23.96   23.64   15.57   13.04\n",
      "  12.55   16.59   13.08   23.15   17.61   25.     27.     25.23   36.3\n",
      "  35.29   40.35   40.34   50.45   50.06   50.41   50.     55.02   60.18\n",
      "  70.1    75.16   80.83   75.33   80.82   54.41   76.91   73.73   75.74\n",
      "  13.36   12.56   16.     18.41   15.89   14.58   13.57   18.61   18.15\n",
      " 100.34   19.18   14.12   16.14   20.19   33.67   19.93   18.92 ]\n",
      "152\n"
     ]
    }
   ],
   "source": [
    "print(df['PT_THK'].unique())\n",
    "\n",
    "print(len(df['PT_THK'].unique()))"
   ]
  },
  {
   "cell_type": "code",
   "execution_count": 16,
   "metadata": {},
   "outputs": [
    {
     "name": "stdout",
     "output_type": "stream",
     "text": [
      "                            PT_THK                        PT_WDTH            \n",
      "                              mean      min      max         mean   min   max\n",
      "STEEL_KIND SPEC                                                              \n",
      "C0         A283-C        23.715000   18.150   26.240  2600.833333  2281  3125\n",
      "           A516-60       12.800000   12.800   12.800  3871.000000  3871  3871\n",
      "           A709-36       26.240000   26.240   26.240  2800.000000  2800  2800\n",
      "           AB/A          18.397143   12.560   25.180  3373.714286  3036  4229\n",
      "           AB/AH32       13.442500   12.560   16.090  2702.250000  2690  2733\n",
      "           AB/B          16.930000   13.060   19.130  3407.833333  2440  4266\n",
      "           BV-A          13.360000   13.360   13.360  3276.000000  3276  3276\n",
      "           BV-AH32       17.749214   12.050   20.140  2815.928571  2082  4570\n",
      "           BV-B          19.029286   15.380   20.440  3104.642857  2200  3770\n",
      "           CCS-B         19.130000   19.130   19.130  2531.000000  2531  2531\n",
      "           GL-A          13.396667   13.060   14.070  3011.333333  2695  3444\n",
      "           GL-A32        14.070000   12.050   17.100  2873.000000  2611  3400\n",
      "           JS-SM400A    100.340000  100.340  100.340  2315.000000  2315  2315\n",
      "           JS-SM400B     18.100000   18.100   18.100  2520.000000  2520  2520\n",
      "           JS-SM490A     31.069032   13.080   50.190  2410.677419  2157  3082\n",
      "           JS-SM490YA    19.100000   19.100   19.100  2040.000000  2040  2040\n",
      "           JS-SM490YB    17.416667   14.090   20.100  2746.833333  2000  3284\n",
      "           JS-SS400      34.815000   19.100   80.280  2590.944444  2463  3082\n",
      "           KR-A          20.975185   12.550   24.140  2697.148148  2200  4490\n",
      "           KR-AH32       13.393333   13.060   13.560  3125.000000  2685  3345\n",
      "           KR-B          15.590000   15.590   15.590  3105.000000  3105  3105\n",
      "           KS-SM400A     37.540000   30.000   40.160  2480.000000  2463  2530\n",
      "           KS-SM400B     18.605000   14.060   22.200  2471.500000  2200  2682\n",
      "           KS-SM490A     24.112000   20.100   30.130  2397.600000  1929  2532\n",
      "           KS-SM490B     22.658571   14.060   35.150  2693.000000  2000  3478\n",
      "           KS-SS400      21.104000   20.100   25.120  2574.400000  2469  2675\n",
      "           LR-A          17.649444   12.050   24.170  3164.444444  2200  4575\n",
      "           LR-AH32       15.157813   12.050   20.100  3064.531250  2000  4528\n",
      "           LR-B          17.790769   12.050   20.430  3255.230769  2200  3648\n",
      "           NK-KA         15.082000   13.060   20.140  3052.800000  2555  3580\n",
      "           NK-KA32       13.565000   12.050   15.080  2839.750000  2568  3310\n",
      "           NV-A          16.655417   12.030   25.190  3220.937500  2298  4333\n",
      "           NV-A32        15.816364   12.050   20.140  2883.848485  2000  3567\n",
      "           NV-B          21.813333   17.600   30.240  3130.000000  2240  3579\n",
      "           SA283-C       20.006190   14.120   33.670  2589.142857  2200  3128\n",
      "C1         JS-SS400      20.180000   20.180   20.180  2240.000000  2240  2240\n",
      "C3         AB/AH32       23.160000   23.160   23.160  3208.000000  3208  3208\n",
      "           LR-AH32       22.150000   22.150   22.150  3133.000000  3133  3133\n",
      "           LR-AH36       25.190000   25.190   25.190  2998.000000  2998  2998\n",
      "           V42JBN3       32.060000   32.060   32.060  2200.000000  2200  2200\n",
      "T0         BV-AH32-TM    47.056667   40.350   50.410  3070.000000  3065  3080\n",
      "           COMMON        30.230000   30.230   30.230  1940.000000  1940  1940\n",
      "           GL-A32-TM     20.892500   13.060   40.350  3109.000000  2724  3328\n",
      "           NK-KA32-TM    22.150000   22.150   22.150  2884.000000  2884  2884\n",
      "           NV-A32-TM     40.350000   40.350   40.350  2772.000000  2772  2772\n",
      "           NV-D32-TM     40.342500   40.340   40.350  2178.750000  2043  2497\n",
      "T1         AB/EH32-TM    32.250000   32.250   32.250  3707.000000  3707  3707\n",
      "           BV-EH32-TM    35.290000   35.290   35.290  3059.000000  3059  3059\n",
      "           COMMON        45.400000   45.400   45.400  2120.000000  2090  2150\n",
      "           GL-E32-TM     47.763333   34.280   50.460  2198.666667  2185  2207\n",
      "           LR-EH32-TM    13.060000   13.060   13.060  2615.000000  2615  2615\n",
      "           NV-E32-TM     13.310000   13.060   13.560  2475.000000  2475  2475\n",
      "T3         API-2W-50T    25.230000   25.230   25.230  2303.000000  1990  2616\n",
      "T5         KS-HSB500     26.000000   25.000   27.000  1857.500000  1800  1915\n",
      "           KS-HSB600     40.000000   40.000   40.000  3990.000000  3990  3990\n",
      "           PILAC-BT33    63.751000   40.000   80.830  2307.400000  1800  3055\n",
      "T7         A131-DH36TM   70.700000   70.700   70.700  3570.000000  3570  3570\n",
      "           BV-AH36-TL    75.070000   73.730   75.740  1840.000000  1840  1840\n",
      "           BV-AH36-TM    40.350000   40.350   40.350  3059.000000  3059  3059\n",
      "           COMMON        75.740000   75.740   75.740  1840.000000  1840  1840\n",
      "           GL-A36-TM     39.981818   36.300   40.350  2718.909091  2481  3229\n",
      "           GL-D36-TM     40.350000   40.350   40.350  2566.375000  2306  3121\n",
      "           LR-AH36-TM    17.610000   17.610   17.610  2795.000000  2795  2795\n",
      "           NK-KD36-TM    40.350000   40.350   40.350  2696.000000  2641  2751\n",
      "           NV-A36-TM     40.350000   40.350   40.350  2501.500000  2343  2660\n",
      "           NV-D36-TM     40.530000   23.150   54.410  2845.400000  2245  4075\n",
      "T8         AB/EH36-TM    69.290000   51.270   89.630  2797.529412  2498  3110\n",
      "           BV-EH36-TM    51.414571   38.330   73.710  2950.285714  2000  3303\n",
      "           COMMON        57.599500   38.430   75.710  2761.350000  2498  3302\n",
      "           GL-E36-TM     62.199375   44.390   75.710  2519.062500  2000  3765\n",
      "           LR-EH36-TM    64.489000   64.489   64.489  3505.000000  3505  3505\n",
      "           NV-E36-TM     52.672000   33.270   70.600  3160.600000  2265  3619\n"
     ]
    }
   ],
   "source": [
    "result = df.groupby(['STEEL_KIND', 'SPEC']).agg({'PT_THK': ['mean', 'min', 'max'], 'PT_WDTH': ['mean', 'min', 'max'], })\n",
    "print(result.to_string())"
   ]
  },
  {
   "cell_type": "code",
   "execution_count": 21,
   "metadata": {},
   "outputs": [
    {
     "data": {
      "text/plain": [
       "<pandas.core.groupby.generic.DataFrameGroupBy object at 0x000001B45C09B0D0>"
      ]
     },
     "execution_count": 21,
     "metadata": {},
     "output_type": "execute_result"
    }
   ],
   "source": [
    "result = df.groupby(['PT_THK', 'PT_WDTH'])\n"
   ]
  },
  {
   "cell_type": "code",
   "execution_count": 22,
   "metadata": {},
   "outputs": [
    {
     "data": {
      "text/html": [
       "<div>\n",
       "<style scoped>\n",
       "    .dataframe tbody tr th:only-of-type {\n",
       "        vertical-align: middle;\n",
       "    }\n",
       "\n",
       "    .dataframe tbody tr th {\n",
       "        vertical-align: top;\n",
       "    }\n",
       "\n",
       "    .dataframe thead th {\n",
       "        text-align: right;\n",
       "    }\n",
       "</style>\n",
       "<table border=\"1\" class=\"dataframe\">\n",
       "  <thead>\n",
       "    <tr style=\"text-align: right;\">\n",
       "      <th></th>\n",
       "      <th>ROLLING_DATE</th>\n",
       "      <th>STEEL_KIND</th>\n",
       "      <th>FUR_NO</th>\n",
       "      <th>HSB</th>\n",
       "      <th>WORK_GR</th>\n",
       "    </tr>\n",
       "  </thead>\n",
       "  <tbody>\n",
       "    <tr>\n",
       "      <th>0</th>\n",
       "      <td>2008-08-01:00:00:15</td>\n",
       "      <td>T1</td>\n",
       "      <td>1호기</td>\n",
       "      <td>적용</td>\n",
       "      <td>2조</td>\n",
       "    </tr>\n",
       "    <tr>\n",
       "      <th>1</th>\n",
       "      <td>2008-08-01:00:00:16</td>\n",
       "      <td>T1</td>\n",
       "      <td>1호기</td>\n",
       "      <td>적용</td>\n",
       "      <td>2조</td>\n",
       "    </tr>\n",
       "    <tr>\n",
       "      <th>2</th>\n",
       "      <td>2008-08-01:00:00:59</td>\n",
       "      <td>T8</td>\n",
       "      <td>2호기</td>\n",
       "      <td>적용</td>\n",
       "      <td>3조</td>\n",
       "    </tr>\n",
       "    <tr>\n",
       "      <th>3</th>\n",
       "      <td>2008-08-01:00:01:24</td>\n",
       "      <td>T8</td>\n",
       "      <td>2호기</td>\n",
       "      <td>적용</td>\n",
       "      <td>3조</td>\n",
       "    </tr>\n",
       "    <tr>\n",
       "      <th>4</th>\n",
       "      <td>2008-08-01:00:01:44</td>\n",
       "      <td>T8</td>\n",
       "      <td>3호기</td>\n",
       "      <td>적용</td>\n",
       "      <td>1조</td>\n",
       "    </tr>\n",
       "    <tr>\n",
       "      <th>...</th>\n",
       "      <td>...</td>\n",
       "      <td>...</td>\n",
       "      <td>...</td>\n",
       "      <td>...</td>\n",
       "      <td>...</td>\n",
       "    </tr>\n",
       "    <tr>\n",
       "      <th>715</th>\n",
       "      <td>2008-08-02:13:35:36</td>\n",
       "      <td>C0</td>\n",
       "      <td>3호기</td>\n",
       "      <td>적용</td>\n",
       "      <td>2조</td>\n",
       "    </tr>\n",
       "    <tr>\n",
       "      <th>716</th>\n",
       "      <td>2008-08-02:13:35:02</td>\n",
       "      <td>C0</td>\n",
       "      <td>2호기</td>\n",
       "      <td>적용</td>\n",
       "      <td>1조</td>\n",
       "    </tr>\n",
       "    <tr>\n",
       "      <th>717</th>\n",
       "      <td>2008-08-02:14:40:00</td>\n",
       "      <td>C0</td>\n",
       "      <td>2호기</td>\n",
       "      <td>적용</td>\n",
       "      <td>4조</td>\n",
       "    </tr>\n",
       "    <tr>\n",
       "      <th>718</th>\n",
       "      <td>2008-08-02:13:35:19</td>\n",
       "      <td>C0</td>\n",
       "      <td>3호기</td>\n",
       "      <td>적용</td>\n",
       "      <td>2조</td>\n",
       "    </tr>\n",
       "    <tr>\n",
       "      <th>719</th>\n",
       "      <td>2008-08-02:14:40:53</td>\n",
       "      <td>C0</td>\n",
       "      <td>3호기</td>\n",
       "      <td>적용</td>\n",
       "      <td>2조</td>\n",
       "    </tr>\n",
       "  </tbody>\n",
       "</table>\n",
       "<p>720 rows × 5 columns</p>\n",
       "</div>"
      ],
      "text/plain": [
       "            ROLLING_DATE STEEL_KIND FUR_NO HSB WORK_GR\n",
       "0    2008-08-01:00:00:15         T1    1호기  적용      2조\n",
       "1    2008-08-01:00:00:16         T1    1호기  적용      2조\n",
       "2    2008-08-01:00:00:59         T8    2호기  적용      3조\n",
       "3    2008-08-01:00:01:24         T8    2호기  적용      3조\n",
       "4    2008-08-01:00:01:44         T8    3호기  적용      1조\n",
       "..                   ...        ...    ...  ..     ...\n",
       "715  2008-08-02:13:35:36         C0    3호기  적용      2조\n",
       "716  2008-08-02:13:35:02         C0    2호기  적용      1조\n",
       "717  2008-08-02:14:40:00         C0    2호기  적용      4조\n",
       "718  2008-08-02:13:35:19         C0    3호기  적용      2조\n",
       "719  2008-08-02:14:40:53         C0    3호기  적용      2조\n",
       "\n",
       "[720 rows x 5 columns]"
      ]
     },
     "execution_count": 22,
     "metadata": {},
     "output_type": "execute_result"
    }
   ],
   "source": [
    "df_sample = df.loc[:,['ROLLING_DATE','STEEL_KIND','FUR_NO','HSB','WORK_GR']]\n",
    "df_sample"
   ]
  },
  {
   "cell_type": "code",
   "execution_count": 25,
   "metadata": {},
   "outputs": [],
   "source": [
    "df_sample2 = df.loc[:,['SCALE','WORK_GR']]\n",
    "df_sample2\n"
   ]
  },
  {
   "cell_type": "code",
   "execution_count": 27,
   "metadata": {},
   "outputs": [],
   "source": [
    "steel = df.copy()\n",
    "\n",
    "steel['SCALE'] = steel['SCALE'].replace({'양품':1, '불량':0})\n",
    "steel['HSB'] = steel['HSB'].replace({'적용':1, '미적용':0})"
   ]
  },
  {
   "cell_type": "code",
   "execution_count": 53,
   "metadata": {},
   "outputs": [
    {
     "name": "stdout",
     "output_type": "stream",
     "text": [
      "231\n",
      "489\n"
     ]
    }
   ],
   "source": [
    "#불량개수\n",
    "print(len(steel.loc[steel['SCALE']==0]))\n",
    "#양품개수\n",
    "print(len(steel.loc[steel['SCALE']==1]))"
   ]
  },
  {
   "cell_type": "code",
   "execution_count": 30,
   "metadata": {},
   "outputs": [
    {
     "data": {
      "text/html": [
       "<div>\n",
       "<style scoped>\n",
       "    .dataframe tbody tr th:only-of-type {\n",
       "        vertical-align: middle;\n",
       "    }\n",
       "\n",
       "    .dataframe tbody tr th {\n",
       "        vertical-align: top;\n",
       "    }\n",
       "\n",
       "    .dataframe thead th {\n",
       "        text-align: right;\n",
       "    }\n",
       "</style>\n",
       "<table border=\"1\" class=\"dataframe\">\n",
       "  <thead>\n",
       "    <tr style=\"text-align: right;\">\n",
       "      <th>HSB</th>\n",
       "      <th>0</th>\n",
       "      <th>1</th>\n",
       "    </tr>\n",
       "    <tr>\n",
       "      <th>WORK_GR</th>\n",
       "      <th></th>\n",
       "      <th></th>\n",
       "    </tr>\n",
       "  </thead>\n",
       "  <tbody>\n",
       "    <tr>\n",
       "      <th>1조</th>\n",
       "      <td>8</td>\n",
       "      <td>181</td>\n",
       "    </tr>\n",
       "    <tr>\n",
       "      <th>2조</th>\n",
       "      <td>6</td>\n",
       "      <td>159</td>\n",
       "    </tr>\n",
       "    <tr>\n",
       "      <th>3조</th>\n",
       "      <td>9</td>\n",
       "      <td>163</td>\n",
       "    </tr>\n",
       "    <tr>\n",
       "      <th>4조</th>\n",
       "      <td>10</td>\n",
       "      <td>184</td>\n",
       "    </tr>\n",
       "  </tbody>\n",
       "</table>\n",
       "</div>"
      ],
      "text/plain": [
       "HSB       0    1\n",
       "WORK_GR         \n",
       "1조        8  181\n",
       "2조        6  159\n",
       "3조        9  163\n",
       "4조       10  184"
      ]
     },
     "execution_count": 30,
     "metadata": {},
     "output_type": "execute_result"
    }
   ],
   "source": [
    "#스틸데이터로 HSB 적용여부에 따른 불량률 비율\n",
    "pivot_steel = pd.pivot_table(data = steel, index = 'WORK_GR', columns = 'HSB', values = 'SCALE', aggfunc = 'count')\n",
    "pivot_steel"
   ]
  },
  {
   "cell_type": "code",
   "execution_count": 42,
   "metadata": {},
   "outputs": [
    {
     "data": {
      "text/html": [
       "<div>\n",
       "<style scoped>\n",
       "    .dataframe tbody tr th:only-of-type {\n",
       "        vertical-align: middle;\n",
       "    }\n",
       "\n",
       "    .dataframe tbody tr th {\n",
       "        vertical-align: top;\n",
       "    }\n",
       "\n",
       "    .dataframe thead th {\n",
       "        text-align: right;\n",
       "    }\n",
       "</style>\n",
       "<table border=\"1\" class=\"dataframe\">\n",
       "  <thead>\n",
       "    <tr style=\"text-align: right;\">\n",
       "      <th></th>\n",
       "      <th></th>\n",
       "      <th>SCALE</th>\n",
       "    </tr>\n",
       "    <tr>\n",
       "      <th>WORK_GR</th>\n",
       "      <th>FUR_NO</th>\n",
       "      <th></th>\n",
       "    </tr>\n",
       "  </thead>\n",
       "  <tbody>\n",
       "    <tr>\n",
       "      <th rowspan=\"3\" valign=\"top\">4조</th>\n",
       "      <th>2호기</th>\n",
       "      <td>67</td>\n",
       "    </tr>\n",
       "    <tr>\n",
       "      <th>1호기</th>\n",
       "      <td>66</td>\n",
       "    </tr>\n",
       "    <tr>\n",
       "      <th>3호기</th>\n",
       "      <td>61</td>\n",
       "    </tr>\n",
       "    <tr>\n",
       "      <th rowspan=\"3\" valign=\"top\">3조</th>\n",
       "      <th>1호기</th>\n",
       "      <td>60</td>\n",
       "    </tr>\n",
       "    <tr>\n",
       "      <th>3호기</th>\n",
       "      <td>57</td>\n",
       "    </tr>\n",
       "    <tr>\n",
       "      <th>2호기</th>\n",
       "      <td>55</td>\n",
       "    </tr>\n",
       "    <tr>\n",
       "      <th rowspan=\"3\" valign=\"top\">2조</th>\n",
       "      <th>1호기</th>\n",
       "      <td>61</td>\n",
       "    </tr>\n",
       "    <tr>\n",
       "      <th>3호기</th>\n",
       "      <td>55</td>\n",
       "    </tr>\n",
       "    <tr>\n",
       "      <th>2호기</th>\n",
       "      <td>49</td>\n",
       "    </tr>\n",
       "    <tr>\n",
       "      <th rowspan=\"3\" valign=\"top\">1조</th>\n",
       "      <th>3호기</th>\n",
       "      <td>70</td>\n",
       "    </tr>\n",
       "    <tr>\n",
       "      <th>2호기</th>\n",
       "      <td>66</td>\n",
       "    </tr>\n",
       "    <tr>\n",
       "      <th>1호기</th>\n",
       "      <td>53</td>\n",
       "    </tr>\n",
       "  </tbody>\n",
       "</table>\n",
       "</div>"
      ],
      "text/plain": [
       "                SCALE\n",
       "WORK_GR FUR_NO       \n",
       "4조      2호기        67\n",
       "        1호기        66\n",
       "        3호기        61\n",
       "3조      1호기        60\n",
       "        3호기        57\n",
       "        2호기        55\n",
       "2조      1호기        61\n",
       "        3호기        55\n",
       "        2호기        49\n",
       "1조      3호기        70\n",
       "        2호기        66\n",
       "        1호기        53"
      ]
     },
     "execution_count": 42,
     "metadata": {},
     "output_type": "execute_result"
    }
   ],
   "source": [
    "#스틸데이터로 HSB 적용여부와 생산시설 NO에 따른 불량률 비율2 그룹바이\n",
    "gb_steel = steel.groupby(['WORK_GR','FUR_NO'])[['SCALE']].count().sort_values(by = ['WORK_GR','SCALE','FUR_NO'],ascending = False)\n",
    "gb_steel"
   ]
  },
  {
   "cell_type": "markdown",
   "metadata": {},
   "source": [
    "# 양품 불량 여부에 영향을 주지않는 데이터\n",
    "-제작일자 'ROLLING_DATE'\n",
    "-플렌트 고유 'ID PLATE_NO'\n",
    "\n",
    "\n",
    "HSB HSB 적용여부"
   ]
  },
  {
   "cell_type": "markdown",
   "metadata": {},
   "source": [
    "# 김경태 제시할 인사이트\n",
    "-생산시설 별 작업그룹의 양품 불량 sum"
   ]
  },
  {
   "cell_type": "code",
   "execution_count": null,
   "metadata": {},
   "outputs": [],
   "source": []
  }
 ],
 "metadata": {
  "kernelspec": {
   "display_name": "Python 3.9.12 ('base')",
   "language": "python",
   "name": "python3"
  },
  "language_info": {
   "codemirror_mode": {
    "name": "ipython",
    "version": 3
   },
   "file_extension": ".py",
   "mimetype": "text/x-python",
   "name": "python",
   "nbconvert_exporter": "python",
   "pygments_lexer": "ipython3",
   "version": "3.9.12"
  },
  "orig_nbformat": 4,
  "vscode": {
   "interpreter": {
    "hash": "014a1d4f4127abf91d419a90ea146722ef617667aa392137e996c5d4104c429e"
   }
  }
 },
 "nbformat": 4,
 "nbformat_minor": 2
}
