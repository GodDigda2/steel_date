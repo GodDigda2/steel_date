{
 "cells": [
  {
   "cell_type": "markdown",
   "metadata": {},
   "source": [
    "- 작업그룹별 SPEC\n",
    "- ROLLING_DESCALING 작업 횟수 별 HSB 적용여부에 따른 양품 여부"
   ]
  },
  {
   "cell_type": "code",
   "execution_count": 20,
   "metadata": {},
   "outputs": [],
   "source": [
    "import pandas as pd\n",
    "import matplotlib.pyplot as plt\n",
    "import seaborn as sns\n",
    "import plotly.express as px"
   ]
  },
  {
   "cell_type": "code",
   "execution_count": 27,
   "metadata": {},
   "outputs": [],
   "source": [
    "\n",
    "df = pd.read_csv('steel_date.csv')"
   ]
  },
  {
   "cell_type": "code",
   "execution_count": 17,
   "metadata": {},
   "outputs": [
    {
     "name": "stdout",
     "output_type": "stream",
     "text": [
      "<class 'pandas.core.series.Series'>\n",
      "RangeIndex: 720 entries, 0 to 719\n",
      "Series name: SPEC\n",
      "Non-Null Count  Dtype \n",
      "--------------  ----- \n",
      "720 non-null    object\n",
      "dtypes: object(1)\n",
      "memory usage: 5.8+ KB\n"
     ]
    }
   ],
   "source": [
    "df['SPEC'].info()"
   ]
  },
  {
   "cell_type": "code",
   "execution_count": 26,
   "metadata": {},
   "outputs": [
    {
     "data": {
      "text/html": [
       "<div>\n",
       "<style scoped>\n",
       "    .dataframe tbody tr th:only-of-type {\n",
       "        vertical-align: middle;\n",
       "    }\n",
       "\n",
       "    .dataframe tbody tr th {\n",
       "        vertical-align: top;\n",
       "    }\n",
       "\n",
       "    .dataframe thead th {\n",
       "        text-align: right;\n",
       "    }\n",
       "</style>\n",
       "<table border=\"1\" class=\"dataframe\">\n",
       "  <thead>\n",
       "    <tr style=\"text-align: right;\">\n",
       "      <th></th>\n",
       "      <th>Unnamed: 0</th>\n",
       "      <th>PLATE_NO</th>\n",
       "      <th>ROLLING_DATE</th>\n",
       "      <th>SCALE</th>\n",
       "      <th>SPEC</th>\n",
       "      <th>STEEL_KIND</th>\n",
       "      <th>PT_THK</th>\n",
       "      <th>PT_WDTH</th>\n",
       "      <th>PT_LTH</th>\n",
       "      <th>PT_WGT</th>\n",
       "      <th>...</th>\n",
       "      <th>FUR_HZ_TEMP</th>\n",
       "      <th>FUR_HZ_TIME</th>\n",
       "      <th>FUR_SZ_TEMP</th>\n",
       "      <th>FUR_SZ_TIME</th>\n",
       "      <th>FUR_TIME</th>\n",
       "      <th>FUR_EXTEMP</th>\n",
       "      <th>ROLLING_TEMP_T5</th>\n",
       "      <th>HSB</th>\n",
       "      <th>ROLLING_DESCALING</th>\n",
       "      <th>WORK_GR</th>\n",
       "    </tr>\n",
       "  </thead>\n",
       "  <tbody>\n",
       "    <tr>\n",
       "      <th>0</th>\n",
       "      <td>0</td>\n",
       "      <td>PB562774</td>\n",
       "      <td>2008-08-01:00:00:15</td>\n",
       "      <td>1</td>\n",
       "      <td>AB/EH32-TM</td>\n",
       "      <td>T1</td>\n",
       "      <td>32.25</td>\n",
       "      <td>3707</td>\n",
       "      <td>15109</td>\n",
       "      <td>14180</td>\n",
       "      <td>...</td>\n",
       "      <td>1144</td>\n",
       "      <td>116</td>\n",
       "      <td>1133</td>\n",
       "      <td>59</td>\n",
       "      <td>282</td>\n",
       "      <td>1133</td>\n",
       "      <td>934</td>\n",
       "      <td>적용</td>\n",
       "      <td>8</td>\n",
       "      <td>2조</td>\n",
       "    </tr>\n",
       "    <tr>\n",
       "      <th>1</th>\n",
       "      <td>1</td>\n",
       "      <td>PB562775</td>\n",
       "      <td>2008-08-01:00:00:16</td>\n",
       "      <td>1</td>\n",
       "      <td>AB/EH32-TM</td>\n",
       "      <td>T1</td>\n",
       "      <td>32.25</td>\n",
       "      <td>3707</td>\n",
       "      <td>15109</td>\n",
       "      <td>14180</td>\n",
       "      <td>...</td>\n",
       "      <td>1144</td>\n",
       "      <td>122</td>\n",
       "      <td>1135</td>\n",
       "      <td>53</td>\n",
       "      <td>283</td>\n",
       "      <td>1135</td>\n",
       "      <td>937</td>\n",
       "      <td>적용</td>\n",
       "      <td>8</td>\n",
       "      <td>2조</td>\n",
       "    </tr>\n",
       "    <tr>\n",
       "      <th>2</th>\n",
       "      <td>2</td>\n",
       "      <td>PB562776</td>\n",
       "      <td>2008-08-01:00:00:59</td>\n",
       "      <td>1</td>\n",
       "      <td>NV-E36-TM</td>\n",
       "      <td>T8</td>\n",
       "      <td>33.27</td>\n",
       "      <td>3619</td>\n",
       "      <td>19181</td>\n",
       "      <td>18130</td>\n",
       "      <td>...</td>\n",
       "      <td>1129</td>\n",
       "      <td>116</td>\n",
       "      <td>1121</td>\n",
       "      <td>55</td>\n",
       "      <td>282</td>\n",
       "      <td>1121</td>\n",
       "      <td>889</td>\n",
       "      <td>적용</td>\n",
       "      <td>8</td>\n",
       "      <td>3조</td>\n",
       "    </tr>\n",
       "    <tr>\n",
       "      <th>3</th>\n",
       "      <td>3</td>\n",
       "      <td>PB562777</td>\n",
       "      <td>2008-08-01:00:01:24</td>\n",
       "      <td>1</td>\n",
       "      <td>NV-E36-TM</td>\n",
       "      <td>T8</td>\n",
       "      <td>33.27</td>\n",
       "      <td>3619</td>\n",
       "      <td>19181</td>\n",
       "      <td>18130</td>\n",
       "      <td>...</td>\n",
       "      <td>1152</td>\n",
       "      <td>125</td>\n",
       "      <td>1127</td>\n",
       "      <td>68</td>\n",
       "      <td>316</td>\n",
       "      <td>1127</td>\n",
       "      <td>885</td>\n",
       "      <td>적용</td>\n",
       "      <td>8</td>\n",
       "      <td>3조</td>\n",
       "    </tr>\n",
       "    <tr>\n",
       "      <th>4</th>\n",
       "      <td>4</td>\n",
       "      <td>PB562778</td>\n",
       "      <td>2008-08-01:00:01:44</td>\n",
       "      <td>1</td>\n",
       "      <td>BV-EH36-TM</td>\n",
       "      <td>T8</td>\n",
       "      <td>38.33</td>\n",
       "      <td>3098</td>\n",
       "      <td>13334</td>\n",
       "      <td>12430</td>\n",
       "      <td>...</td>\n",
       "      <td>1140</td>\n",
       "      <td>134</td>\n",
       "      <td>1128</td>\n",
       "      <td>48</td>\n",
       "      <td>314</td>\n",
       "      <td>1128</td>\n",
       "      <td>873</td>\n",
       "      <td>적용</td>\n",
       "      <td>8</td>\n",
       "      <td>1조</td>\n",
       "    </tr>\n",
       "  </tbody>\n",
       "</table>\n",
       "<p>5 rows × 22 columns</p>\n",
       "</div>"
      ],
      "text/plain": [
       "   Unnamed: 0  PLATE_NO         ROLLING_DATE  SCALE        SPEC STEEL_KIND  \\\n",
       "0           0  PB562774  2008-08-01:00:00:15      1  AB/EH32-TM         T1   \n",
       "1           1  PB562775  2008-08-01:00:00:16      1  AB/EH32-TM         T1   \n",
       "2           2  PB562776  2008-08-01:00:00:59      1   NV-E36-TM         T8   \n",
       "3           3  PB562777  2008-08-01:00:01:24      1   NV-E36-TM         T8   \n",
       "4           4  PB562778  2008-08-01:00:01:44      1  BV-EH36-TM         T8   \n",
       "\n",
       "   PT_THK  PT_WDTH  PT_LTH  PT_WGT  ... FUR_HZ_TEMP  FUR_HZ_TIME  FUR_SZ_TEMP  \\\n",
       "0   32.25     3707   15109   14180  ...        1144          116         1133   \n",
       "1   32.25     3707   15109   14180  ...        1144          122         1135   \n",
       "2   33.27     3619   19181   18130  ...        1129          116         1121   \n",
       "3   33.27     3619   19181   18130  ...        1152          125         1127   \n",
       "4   38.33     3098   13334   12430  ...        1140          134         1128   \n",
       "\n",
       "   FUR_SZ_TIME  FUR_TIME  FUR_EXTEMP  ROLLING_TEMP_T5  HSB  ROLLING_DESCALING  \\\n",
       "0           59       282        1133              934   적용                  8   \n",
       "1           53       283        1135              937   적용                  8   \n",
       "2           55       282        1121              889   적용                  8   \n",
       "3           68       316        1127              885   적용                  8   \n",
       "4           48       314        1128              873   적용                  8   \n",
       "\n",
       "  WORK_GR  \n",
       "0      2조  \n",
       "1      2조  \n",
       "2      3조  \n",
       "3      3조  \n",
       "4      1조  \n",
       "\n",
       "[5 rows x 22 columns]"
      ]
     },
     "execution_count": 26,
     "metadata": {},
     "output_type": "execute_result"
    }
   ],
   "source": [
    "df.head()"
   ]
  },
  {
   "cell_type": "code",
   "execution_count": 28,
   "metadata": {},
   "outputs": [],
   "source": [
    "steel = df.copy()"
   ]
  },
  {
   "cell_type": "code",
   "execution_count": 29,
   "metadata": {},
   "outputs": [],
   "source": [
    "steel['SCALE'] = steel['SCALE'].replace({'양품':1, '불량':0})\n",
    "steel['HSB'] = steel['HSB'].replace({'적용':1, '미적용':0})"
   ]
  },
  {
   "cell_type": "code",
   "execution_count": 34,
   "metadata": {},
   "outputs": [
    {
     "data": {
      "text/html": [
       "<div>\n",
       "<style scoped>\n",
       "    .dataframe tbody tr th:only-of-type {\n",
       "        vertical-align: middle;\n",
       "    }\n",
       "\n",
       "    .dataframe tbody tr th {\n",
       "        vertical-align: top;\n",
       "    }\n",
       "\n",
       "    .dataframe thead th {\n",
       "        text-align: right;\n",
       "    }\n",
       "</style>\n",
       "<table border=\"1\" class=\"dataframe\">\n",
       "  <thead>\n",
       "    <tr style=\"text-align: right;\">\n",
       "      <th></th>\n",
       "      <th>Unnamed: 0</th>\n",
       "      <th>PLATE_NO</th>\n",
       "      <th>ROLLING_DATE</th>\n",
       "      <th>SCALE</th>\n",
       "      <th>SPEC</th>\n",
       "      <th>STEEL_KIND</th>\n",
       "      <th>PT_THK</th>\n",
       "      <th>PT_WDTH</th>\n",
       "      <th>PT_LTH</th>\n",
       "      <th>PT_WGT</th>\n",
       "      <th>...</th>\n",
       "      <th>FUR_HZ_TEMP</th>\n",
       "      <th>FUR_HZ_TIME</th>\n",
       "      <th>FUR_SZ_TEMP</th>\n",
       "      <th>FUR_SZ_TIME</th>\n",
       "      <th>FUR_TIME</th>\n",
       "      <th>FUR_EXTEMP</th>\n",
       "      <th>ROLLING_TEMP_T5</th>\n",
       "      <th>HSB</th>\n",
       "      <th>ROLLING_DESCALING</th>\n",
       "      <th>WORK_GR</th>\n",
       "    </tr>\n",
       "  </thead>\n",
       "  <tbody>\n",
       "    <tr>\n",
       "      <th>0</th>\n",
       "      <td>0</td>\n",
       "      <td>PB562774</td>\n",
       "      <td>2008-08-01:00:00:15</td>\n",
       "      <td>1</td>\n",
       "      <td>AB/EH32-TM</td>\n",
       "      <td>T1</td>\n",
       "      <td>32.25</td>\n",
       "      <td>3707</td>\n",
       "      <td>15109</td>\n",
       "      <td>14180</td>\n",
       "      <td>...</td>\n",
       "      <td>1144</td>\n",
       "      <td>116</td>\n",
       "      <td>1133</td>\n",
       "      <td>59</td>\n",
       "      <td>282</td>\n",
       "      <td>1133</td>\n",
       "      <td>934</td>\n",
       "      <td>1</td>\n",
       "      <td>8</td>\n",
       "      <td>2조</td>\n",
       "    </tr>\n",
       "  </tbody>\n",
       "</table>\n",
       "<p>1 rows × 22 columns</p>\n",
       "</div>"
      ],
      "text/plain": [
       "   Unnamed: 0  PLATE_NO         ROLLING_DATE  SCALE        SPEC STEEL_KIND  \\\n",
       "0           0  PB562774  2008-08-01:00:00:15      1  AB/EH32-TM         T1   \n",
       "\n",
       "   PT_THK  PT_WDTH  PT_LTH  PT_WGT  ... FUR_HZ_TEMP  FUR_HZ_TIME  FUR_SZ_TEMP  \\\n",
       "0   32.25     3707   15109   14180  ...        1144          116         1133   \n",
       "\n",
       "   FUR_SZ_TIME  FUR_TIME  FUR_EXTEMP  ROLLING_TEMP_T5  HSB  ROLLING_DESCALING  \\\n",
       "0           59       282        1133              934    1                  8   \n",
       "\n",
       "   WORK_GR  \n",
       "0       2조  \n",
       "\n",
       "[1 rows x 22 columns]"
      ]
     },
     "execution_count": 34,
     "metadata": {},
     "output_type": "execute_result"
    }
   ],
   "source": [
    "steel.head(1)"
   ]
  },
  {
   "cell_type": "markdown",
   "metadata": {},
   "source": [
    "### 작업그룹별 SPEC"
   ]
  },
  {
   "cell_type": "code",
   "execution_count": 39,
   "metadata": {},
   "outputs": [
    {
     "data": {
      "text/html": [
       "<div>\n",
       "<style scoped>\n",
       "    .dataframe tbody tr th:only-of-type {\n",
       "        vertical-align: middle;\n",
       "    }\n",
       "\n",
       "    .dataframe tbody tr th {\n",
       "        vertical-align: top;\n",
       "    }\n",
       "\n",
       "    .dataframe thead th {\n",
       "        text-align: right;\n",
       "    }\n",
       "</style>\n",
       "<table border=\"1\" class=\"dataframe\">\n",
       "  <thead>\n",
       "    <tr style=\"text-align: right;\">\n",
       "      <th></th>\n",
       "      <th>WORK_GR</th>\n",
       "      <th>SPEC</th>\n",
       "      <th>PLATE_NO</th>\n",
       "    </tr>\n",
       "  </thead>\n",
       "  <tbody>\n",
       "    <tr>\n",
       "      <th>0</th>\n",
       "      <td>1조</td>\n",
       "      <td>AB/A</td>\n",
       "      <td>3</td>\n",
       "    </tr>\n",
       "    <tr>\n",
       "      <th>1</th>\n",
       "      <td>1조</td>\n",
       "      <td>AB/EH36-TM</td>\n",
       "      <td>4</td>\n",
       "    </tr>\n",
       "    <tr>\n",
       "      <th>2</th>\n",
       "      <td>1조</td>\n",
       "      <td>API-2W-50T</td>\n",
       "      <td>1</td>\n",
       "    </tr>\n",
       "    <tr>\n",
       "      <th>3</th>\n",
       "      <td>1조</td>\n",
       "      <td>BV-AH32</td>\n",
       "      <td>4</td>\n",
       "    </tr>\n",
       "    <tr>\n",
       "      <th>4</th>\n",
       "      <td>1조</td>\n",
       "      <td>BV-AH32-TM</td>\n",
       "      <td>1</td>\n",
       "    </tr>\n",
       "  </tbody>\n",
       "</table>\n",
       "</div>"
      ],
      "text/plain": [
       "  WORK_GR        SPEC  PLATE_NO\n",
       "0      1조        AB/A         3\n",
       "1      1조  AB/EH36-TM         4\n",
       "2      1조  API-2W-50T         1\n",
       "3      1조     BV-AH32         4\n",
       "4      1조  BV-AH32-TM         1"
      ]
     },
     "execution_count": 39,
     "metadata": {},
     "output_type": "execute_result"
    }
   ],
   "source": [
    "plt01=steel.groupby(['WORK_GR','SPEC'], as_index=False)[['PLATE_NO']].count()\n",
    "plt01.head(5)"
   ]
  },
  {
   "cell_type": "code",
   "execution_count": 41,
   "metadata": {},
   "outputs": [
    {
     "data": {
      "application/vnd.plotly.v1+json": {
       "config": {
        "plotlyServerURL": "https://plot.ly"
       },
       "data": [
        {
         "alignmentgroup": "True",
         "hovertemplate": "SPEC=AB/A<br>WORK_GR=%{x}<br>PLATE_NO=%{y}<extra></extra>",
         "legendgroup": "AB/A",
         "marker": {
          "color": "#636efa",
          "pattern": {
           "shape": ""
          }
         },
         "name": "AB/A",
         "offsetgroup": "AB/A",
         "orientation": "v",
         "showlegend": true,
         "textposition": "auto",
         "type": "bar",
         "x": [
          "1조",
          "3조",
          "4조"
         ],
         "xaxis": "x",
         "y": [
          3,
          1,
          3
         ],
         "yaxis": "y"
        },
        {
         "alignmentgroup": "True",
         "hovertemplate": "SPEC=AB/EH36-TM<br>WORK_GR=%{x}<br>PLATE_NO=%{y}<extra></extra>",
         "legendgroup": "AB/EH36-TM",
         "marker": {
          "color": "#EF553B",
          "pattern": {
           "shape": ""
          }
         },
         "name": "AB/EH36-TM",
         "offsetgroup": "AB/EH36-TM",
         "orientation": "v",
         "showlegend": true,
         "textposition": "auto",
         "type": "bar",
         "x": [
          "1조",
          "2조",
          "3조",
          "4조"
         ],
         "xaxis": "x",
         "y": [
          4,
          5,
          4,
          4
         ],
         "yaxis": "y"
        },
        {
         "alignmentgroup": "True",
         "hovertemplate": "SPEC=API-2W-50T<br>WORK_GR=%{x}<br>PLATE_NO=%{y}<extra></extra>",
         "legendgroup": "API-2W-50T",
         "marker": {
          "color": "#00cc96",
          "pattern": {
           "shape": ""
          }
         },
         "name": "API-2W-50T",
         "offsetgroup": "API-2W-50T",
         "orientation": "v",
         "showlegend": true,
         "textposition": "auto",
         "type": "bar",
         "x": [
          "1조",
          "4조"
         ],
         "xaxis": "x",
         "y": [
          1,
          1
         ],
         "yaxis": "y"
        },
        {
         "alignmentgroup": "True",
         "hovertemplate": "SPEC=BV-AH32<br>WORK_GR=%{x}<br>PLATE_NO=%{y}<extra></extra>",
         "legendgroup": "BV-AH32",
         "marker": {
          "color": "#ab63fa",
          "pattern": {
           "shape": ""
          }
         },
         "name": "BV-AH32",
         "offsetgroup": "BV-AH32",
         "orientation": "v",
         "showlegend": true,
         "textposition": "auto",
         "type": "bar",
         "x": [
          "1조",
          "2조",
          "3조",
          "4조"
         ],
         "xaxis": "x",
         "y": [
          4,
          1,
          6,
          3
         ],
         "yaxis": "y"
        },
        {
         "alignmentgroup": "True",
         "hovertemplate": "SPEC=BV-AH32-TM<br>WORK_GR=%{x}<br>PLATE_NO=%{y}<extra></extra>",
         "legendgroup": "BV-AH32-TM",
         "marker": {
          "color": "#FFA15A",
          "pattern": {
           "shape": ""
          }
         },
         "name": "BV-AH32-TM",
         "offsetgroup": "BV-AH32-TM",
         "orientation": "v",
         "showlegend": true,
         "textposition": "auto",
         "type": "bar",
         "x": [
          "1조",
          "2조",
          "4조"
         ],
         "xaxis": "x",
         "y": [
          1,
          1,
          1
         ],
         "yaxis": "y"
        },
        {
         "alignmentgroup": "True",
         "hovertemplate": "SPEC=BV-B<br>WORK_GR=%{x}<br>PLATE_NO=%{y}<extra></extra>",
         "legendgroup": "BV-B",
         "marker": {
          "color": "#19d3f3",
          "pattern": {
           "shape": ""
          }
         },
         "name": "BV-B",
         "offsetgroup": "BV-B",
         "orientation": "v",
         "showlegend": true,
         "textposition": "auto",
         "type": "bar",
         "x": [
          "1조",
          "2조",
          "3조",
          "4조"
         ],
         "xaxis": "x",
         "y": [
          9,
          4,
          7,
          8
         ],
         "yaxis": "y"
        },
        {
         "alignmentgroup": "True",
         "hovertemplate": "SPEC=BV-EH32-TM<br>WORK_GR=%{x}<br>PLATE_NO=%{y}<extra></extra>",
         "legendgroup": "BV-EH32-TM",
         "marker": {
          "color": "#FF6692",
          "pattern": {
           "shape": ""
          }
         },
         "name": "BV-EH32-TM",
         "offsetgroup": "BV-EH32-TM",
         "orientation": "v",
         "showlegend": true,
         "textposition": "auto",
         "type": "bar",
         "x": [
          "1조"
         ],
         "xaxis": "x",
         "y": [
          1
         ],
         "yaxis": "y"
        },
        {
         "alignmentgroup": "True",
         "hovertemplate": "SPEC=BV-EH36-TM<br>WORK_GR=%{x}<br>PLATE_NO=%{y}<extra></extra>",
         "legendgroup": "BV-EH36-TM",
         "marker": {
          "color": "#B6E880",
          "pattern": {
           "shape": ""
          }
         },
         "name": "BV-EH36-TM",
         "offsetgroup": "BV-EH36-TM",
         "orientation": "v",
         "showlegend": true,
         "textposition": "auto",
         "type": "bar",
         "x": [
          "1조",
          "2조",
          "3조",
          "4조"
         ],
         "xaxis": "x",
         "y": [
          10,
          9,
          4,
          12
         ],
         "yaxis": "y"
        },
        {
         "alignmentgroup": "True",
         "hovertemplate": "SPEC=COMMON<br>WORK_GR=%{x}<br>PLATE_NO=%{y}<extra></extra>",
         "legendgroup": "COMMON",
         "marker": {
          "color": "#FF97FF",
          "pattern": {
           "shape": ""
          }
         },
         "name": "COMMON",
         "offsetgroup": "COMMON",
         "orientation": "v",
         "showlegend": true,
         "textposition": "auto",
         "type": "bar",
         "x": [
          "1조",
          "2조",
          "3조",
          "4조"
         ],
         "xaxis": "x",
         "y": [
          10,
          5,
          6,
          7
         ],
         "yaxis": "y"
        },
        {
         "alignmentgroup": "True",
         "hovertemplate": "SPEC=GL-A<br>WORK_GR=%{x}<br>PLATE_NO=%{y}<extra></extra>",
         "legendgroup": "GL-A",
         "marker": {
          "color": "#FECB52",
          "pattern": {
           "shape": ""
          }
         },
         "name": "GL-A",
         "offsetgroup": "GL-A",
         "orientation": "v",
         "showlegend": true,
         "textposition": "auto",
         "type": "bar",
         "x": [
          "1조"
         ],
         "xaxis": "x",
         "y": [
          3
         ],
         "yaxis": "y"
        },
        {
         "alignmentgroup": "True",
         "hovertemplate": "SPEC=GL-A32<br>WORK_GR=%{x}<br>PLATE_NO=%{y}<extra></extra>",
         "legendgroup": "GL-A32",
         "marker": {
          "color": "#636efa",
          "pattern": {
           "shape": ""
          }
         },
         "name": "GL-A32",
         "offsetgroup": "GL-A32",
         "orientation": "v",
         "showlegend": true,
         "textposition": "auto",
         "type": "bar",
         "x": [
          "1조",
          "2조",
          "3조",
          "4조"
         ],
         "xaxis": "x",
         "y": [
          2,
          3,
          2,
          1
         ],
         "yaxis": "y"
        },
        {
         "alignmentgroup": "True",
         "hovertemplate": "SPEC=GL-A32-TM<br>WORK_GR=%{x}<br>PLATE_NO=%{y}<extra></extra>",
         "legendgroup": "GL-A32-TM",
         "marker": {
          "color": "#EF553B",
          "pattern": {
           "shape": ""
          }
         },
         "name": "GL-A32-TM",
         "offsetgroup": "GL-A32-TM",
         "orientation": "v",
         "showlegend": true,
         "textposition": "auto",
         "type": "bar",
         "x": [
          "1조",
          "3조"
         ],
         "xaxis": "x",
         "y": [
          2,
          2
         ],
         "yaxis": "y"
        },
        {
         "alignmentgroup": "True",
         "hovertemplate": "SPEC=GL-A36-TM<br>WORK_GR=%{x}<br>PLATE_NO=%{y}<extra></extra>",
         "legendgroup": "GL-A36-TM",
         "marker": {
          "color": "#00cc96",
          "pattern": {
           "shape": ""
          }
         },
         "name": "GL-A36-TM",
         "offsetgroup": "GL-A36-TM",
         "orientation": "v",
         "showlegend": true,
         "textposition": "auto",
         "type": "bar",
         "x": [
          "1조",
          "2조",
          "3조",
          "4조"
         ],
         "xaxis": "x",
         "y": [
          4,
          3,
          3,
          1
         ],
         "yaxis": "y"
        },
        {
         "alignmentgroup": "True",
         "hovertemplate": "SPEC=GL-D36-TM<br>WORK_GR=%{x}<br>PLATE_NO=%{y}<extra></extra>",
         "legendgroup": "GL-D36-TM",
         "marker": {
          "color": "#ab63fa",
          "pattern": {
           "shape": ""
          }
         },
         "name": "GL-D36-TM",
         "offsetgroup": "GL-D36-TM",
         "orientation": "v",
         "showlegend": true,
         "textposition": "auto",
         "type": "bar",
         "x": [
          "1조",
          "2조",
          "3조",
          "4조"
         ],
         "xaxis": "x",
         "y": [
          3,
          3,
          1,
          1
         ],
         "yaxis": "y"
        },
        {
         "alignmentgroup": "True",
         "hovertemplate": "SPEC=GL-E36-TM<br>WORK_GR=%{x}<br>PLATE_NO=%{y}<extra></extra>",
         "legendgroup": "GL-E36-TM",
         "marker": {
          "color": "#FFA15A",
          "pattern": {
           "shape": ""
          }
         },
         "name": "GL-E36-TM",
         "offsetgroup": "GL-E36-TM",
         "orientation": "v",
         "showlegend": true,
         "textposition": "auto",
         "type": "bar",
         "x": [
          "1조",
          "2조",
          "3조",
          "4조"
         ],
         "xaxis": "x",
         "y": [
          4,
          1,
          5,
          6
         ],
         "yaxis": "y"
        },
        {
         "alignmentgroup": "True",
         "hovertemplate": "SPEC=JS-SM400B<br>WORK_GR=%{x}<br>PLATE_NO=%{y}<extra></extra>",
         "legendgroup": "JS-SM400B",
         "marker": {
          "color": "#19d3f3",
          "pattern": {
           "shape": ""
          }
         },
         "name": "JS-SM400B",
         "offsetgroup": "JS-SM400B",
         "orientation": "v",
         "showlegend": true,
         "textposition": "auto",
         "type": "bar",
         "x": [
          "1조",
          "3조"
         ],
         "xaxis": "x",
         "y": [
          1,
          4
         ],
         "yaxis": "y"
        },
        {
         "alignmentgroup": "True",
         "hovertemplate": "SPEC=JS-SM490A<br>WORK_GR=%{x}<br>PLATE_NO=%{y}<extra></extra>",
         "legendgroup": "JS-SM490A",
         "marker": {
          "color": "#FF6692",
          "pattern": {
           "shape": ""
          }
         },
         "name": "JS-SM490A",
         "offsetgroup": "JS-SM490A",
         "orientation": "v",
         "showlegend": true,
         "textposition": "auto",
         "type": "bar",
         "x": [
          "1조",
          "2조",
          "3조",
          "4조"
         ],
         "xaxis": "x",
         "y": [
          14,
          7,
          7,
          3
         ],
         "yaxis": "y"
        },
        {
         "alignmentgroup": "True",
         "hovertemplate": "SPEC=JS-SM490YA<br>WORK_GR=%{x}<br>PLATE_NO=%{y}<extra></extra>",
         "legendgroup": "JS-SM490YA",
         "marker": {
          "color": "#B6E880",
          "pattern": {
           "shape": ""
          }
         },
         "name": "JS-SM490YA",
         "offsetgroup": "JS-SM490YA",
         "orientation": "v",
         "showlegend": true,
         "textposition": "auto",
         "type": "bar",
         "x": [
          "1조",
          "2조",
          "3조"
         ],
         "xaxis": "x",
         "y": [
          1,
          3,
          1
         ],
         "yaxis": "y"
        },
        {
         "alignmentgroup": "True",
         "hovertemplate": "SPEC=JS-SM490YB<br>WORK_GR=%{x}<br>PLATE_NO=%{y}<extra></extra>",
         "legendgroup": "JS-SM490YB",
         "marker": {
          "color": "#FF97FF",
          "pattern": {
           "shape": ""
          }
         },
         "name": "JS-SM490YB",
         "offsetgroup": "JS-SM490YB",
         "orientation": "v",
         "showlegend": true,
         "textposition": "auto",
         "type": "bar",
         "x": [
          "1조",
          "2조",
          "3조",
          "4조"
         ],
         "xaxis": "x",
         "y": [
          12,
          19,
          24,
          29
         ],
         "yaxis": "y"
        },
        {
         "alignmentgroup": "True",
         "hovertemplate": "SPEC=JS-SS400<br>WORK_GR=%{x}<br>PLATE_NO=%{y}<extra></extra>",
         "legendgroup": "JS-SS400",
         "marker": {
          "color": "#FECB52",
          "pattern": {
           "shape": ""
          }
         },
         "name": "JS-SS400",
         "offsetgroup": "JS-SS400",
         "orientation": "v",
         "showlegend": true,
         "textposition": "auto",
         "type": "bar",
         "x": [
          "1조",
          "2조",
          "3조",
          "4조"
         ],
         "xaxis": "x",
         "y": [
          4,
          3,
          9,
          3
         ],
         "yaxis": "y"
        },
        {
         "alignmentgroup": "True",
         "hovertemplate": "SPEC=KR-A<br>WORK_GR=%{x}<br>PLATE_NO=%{y}<extra></extra>",
         "legendgroup": "KR-A",
         "marker": {
          "color": "#636efa",
          "pattern": {
           "shape": ""
          }
         },
         "name": "KR-A",
         "offsetgroup": "KR-A",
         "orientation": "v",
         "showlegend": true,
         "textposition": "auto",
         "type": "bar",
         "x": [
          "1조",
          "2조",
          "3조",
          "4조"
         ],
         "xaxis": "x",
         "y": [
          14,
          3,
          2,
          8
         ],
         "yaxis": "y"
        },
        {
         "alignmentgroup": "True",
         "hovertemplate": "SPEC=KS-HSB600<br>WORK_GR=%{x}<br>PLATE_NO=%{y}<extra></extra>",
         "legendgroup": "KS-HSB600",
         "marker": {
          "color": "#EF553B",
          "pattern": {
           "shape": ""
          }
         },
         "name": "KS-HSB600",
         "offsetgroup": "KS-HSB600",
         "orientation": "v",
         "showlegend": true,
         "textposition": "auto",
         "type": "bar",
         "x": [
          "1조"
         ],
         "xaxis": "x",
         "y": [
          1
         ],
         "yaxis": "y"
        },
        {
         "alignmentgroup": "True",
         "hovertemplate": "SPEC=KS-SM400A<br>WORK_GR=%{x}<br>PLATE_NO=%{y}<extra></extra>",
         "legendgroup": "KS-SM400A",
         "marker": {
          "color": "#00cc96",
          "pattern": {
           "shape": ""
          }
         },
         "name": "KS-SM400A",
         "offsetgroup": "KS-SM400A",
         "orientation": "v",
         "showlegend": true,
         "textposition": "auto",
         "type": "bar",
         "x": [
          "1조",
          "2조",
          "3조",
          "4조"
         ],
         "xaxis": "x",
         "y": [
          1,
          1,
          1,
          1
         ],
         "yaxis": "y"
        },
        {
         "alignmentgroup": "True",
         "hovertemplate": "SPEC=KS-SM400B<br>WORK_GR=%{x}<br>PLATE_NO=%{y}<extra></extra>",
         "legendgroup": "KS-SM400B",
         "marker": {
          "color": "#ab63fa",
          "pattern": {
           "shape": ""
          }
         },
         "name": "KS-SM400B",
         "offsetgroup": "KS-SM400B",
         "orientation": "v",
         "showlegend": true,
         "textposition": "auto",
         "type": "bar",
         "x": [
          "1조",
          "2조"
         ],
         "xaxis": "x",
         "y": [
          2,
          2
         ],
         "yaxis": "y"
        },
        {
         "alignmentgroup": "True",
         "hovertemplate": "SPEC=KS-SM490A<br>WORK_GR=%{x}<br>PLATE_NO=%{y}<extra></extra>",
         "legendgroup": "KS-SM490A",
         "marker": {
          "color": "#FFA15A",
          "pattern": {
           "shape": ""
          }
         },
         "name": "KS-SM490A",
         "offsetgroup": "KS-SM490A",
         "orientation": "v",
         "showlegend": true,
         "textposition": "auto",
         "type": "bar",
         "x": [
          "1조",
          "2조",
          "3조",
          "4조"
         ],
         "xaxis": "x",
         "y": [
          1,
          1,
          1,
          2
         ],
         "yaxis": "y"
        },
        {
         "alignmentgroup": "True",
         "hovertemplate": "SPEC=KS-SM490B<br>WORK_GR=%{x}<br>PLATE_NO=%{y}<extra></extra>",
         "legendgroup": "KS-SM490B",
         "marker": {
          "color": "#19d3f3",
          "pattern": {
           "shape": ""
          }
         },
         "name": "KS-SM490B",
         "offsetgroup": "KS-SM490B",
         "orientation": "v",
         "showlegend": true,
         "textposition": "auto",
         "type": "bar",
         "x": [
          "1조",
          "2조",
          "3조",
          "4조"
         ],
         "xaxis": "x",
         "y": [
          2,
          1,
          2,
          2
         ],
         "yaxis": "y"
        },
        {
         "alignmentgroup": "True",
         "hovertemplate": "SPEC=KS-SS400<br>WORK_GR=%{x}<br>PLATE_NO=%{y}<extra></extra>",
         "legendgroup": "KS-SS400",
         "marker": {
          "color": "#FF6692",
          "pattern": {
           "shape": ""
          }
         },
         "name": "KS-SS400",
         "offsetgroup": "KS-SS400",
         "orientation": "v",
         "showlegend": true,
         "textposition": "auto",
         "type": "bar",
         "x": [
          "1조",
          "2조",
          "3조"
         ],
         "xaxis": "x",
         "y": [
          2,
          2,
          1
         ],
         "yaxis": "y"
        },
        {
         "alignmentgroup": "True",
         "hovertemplate": "SPEC=LR-A<br>WORK_GR=%{x}<br>PLATE_NO=%{y}<extra></extra>",
         "legendgroup": "LR-A",
         "marker": {
          "color": "#B6E880",
          "pattern": {
           "shape": ""
          }
         },
         "name": "LR-A",
         "offsetgroup": "LR-A",
         "orientation": "v",
         "showlegend": true,
         "textposition": "auto",
         "type": "bar",
         "x": [
          "1조",
          "2조",
          "3조",
          "4조"
         ],
         "xaxis": "x",
         "y": [
          15,
          11,
          12,
          16
         ],
         "yaxis": "y"
        },
        {
         "alignmentgroup": "True",
         "hovertemplate": "SPEC=LR-AH32<br>WORK_GR=%{x}<br>PLATE_NO=%{y}<extra></extra>",
         "legendgroup": "LR-AH32",
         "marker": {
          "color": "#FF97FF",
          "pattern": {
           "shape": ""
          }
         },
         "name": "LR-AH32",
         "offsetgroup": "LR-AH32",
         "orientation": "v",
         "showlegend": true,
         "textposition": "auto",
         "type": "bar",
         "x": [
          "1조",
          "2조",
          "3조",
          "4조"
         ],
         "xaxis": "x",
         "y": [
          12,
          10,
          4,
          7
         ],
         "yaxis": "y"
        },
        {
         "alignmentgroup": "True",
         "hovertemplate": "SPEC=LR-B<br>WORK_GR=%{x}<br>PLATE_NO=%{y}<extra></extra>",
         "legendgroup": "LR-B",
         "marker": {
          "color": "#FECB52",
          "pattern": {
           "shape": ""
          }
         },
         "name": "LR-B",
         "offsetgroup": "LR-B",
         "orientation": "v",
         "showlegend": true,
         "textposition": "auto",
         "type": "bar",
         "x": [
          "1조",
          "2조",
          "3조",
          "4조"
         ],
         "xaxis": "x",
         "y": [
          4,
          3,
          1,
          5
         ],
         "yaxis": "y"
        },
        {
         "alignmentgroup": "True",
         "hovertemplate": "SPEC=LR-EH36-TM<br>WORK_GR=%{x}<br>PLATE_NO=%{y}<extra></extra>",
         "legendgroup": "LR-EH36-TM",
         "marker": {
          "color": "#636efa",
          "pattern": {
           "shape": ""
          }
         },
         "name": "LR-EH36-TM",
         "offsetgroup": "LR-EH36-TM",
         "orientation": "v",
         "showlegend": true,
         "textposition": "auto",
         "type": "bar",
         "x": [
          "1조",
          "2조"
         ],
         "xaxis": "x",
         "y": [
          1,
          1
         ],
         "yaxis": "y"
        },
        {
         "alignmentgroup": "True",
         "hovertemplate": "SPEC=NK-KA32<br>WORK_GR=%{x}<br>PLATE_NO=%{y}<extra></extra>",
         "legendgroup": "NK-KA32",
         "marker": {
          "color": "#EF553B",
          "pattern": {
           "shape": ""
          }
         },
         "name": "NK-KA32",
         "offsetgroup": "NK-KA32",
         "orientation": "v",
         "showlegend": true,
         "textposition": "auto",
         "type": "bar",
         "x": [
          "1조",
          "2조",
          "3조",
          "4조"
         ],
         "xaxis": "x",
         "y": [
          6,
          1,
          4,
          1
         ],
         "yaxis": "y"
        },
        {
         "alignmentgroup": "True",
         "hovertemplate": "SPEC=NK-KA32-TM<br>WORK_GR=%{x}<br>PLATE_NO=%{y}<extra></extra>",
         "legendgroup": "NK-KA32-TM",
         "marker": {
          "color": "#00cc96",
          "pattern": {
           "shape": ""
          }
         },
         "name": "NK-KA32-TM",
         "offsetgroup": "NK-KA32-TM",
         "orientation": "v",
         "showlegend": true,
         "textposition": "auto",
         "type": "bar",
         "x": [
          "1조"
         ],
         "xaxis": "x",
         "y": [
          1
         ],
         "yaxis": "y"
        },
        {
         "alignmentgroup": "True",
         "hovertemplate": "SPEC=NV-A<br>WORK_GR=%{x}<br>PLATE_NO=%{y}<extra></extra>",
         "legendgroup": "NV-A",
         "marker": {
          "color": "#ab63fa",
          "pattern": {
           "shape": ""
          }
         },
         "name": "NV-A",
         "offsetgroup": "NV-A",
         "orientation": "v",
         "showlegend": true,
         "textposition": "auto",
         "type": "bar",
         "x": [
          "1조",
          "2조",
          "3조",
          "4조"
         ],
         "xaxis": "x",
         "y": [
          9,
          12,
          14,
          13
         ],
         "yaxis": "y"
        },
        {
         "alignmentgroup": "True",
         "hovertemplate": "SPEC=NV-A32<br>WORK_GR=%{x}<br>PLATE_NO=%{y}<extra></extra>",
         "legendgroup": "NV-A32",
         "marker": {
          "color": "#FFA15A",
          "pattern": {
           "shape": ""
          }
         },
         "name": "NV-A32",
         "offsetgroup": "NV-A32",
         "orientation": "v",
         "showlegend": true,
         "textposition": "auto",
         "type": "bar",
         "x": [
          "1조",
          "2조",
          "3조",
          "4조"
         ],
         "xaxis": "x",
         "y": [
          8,
          7,
          6,
          12
         ],
         "yaxis": "y"
        },
        {
         "alignmentgroup": "True",
         "hovertemplate": "SPEC=NV-A32-TM<br>WORK_GR=%{x}<br>PLATE_NO=%{y}<extra></extra>",
         "legendgroup": "NV-A32-TM",
         "marker": {
          "color": "#19d3f3",
          "pattern": {
           "shape": ""
          }
         },
         "name": "NV-A32-TM",
         "offsetgroup": "NV-A32-TM",
         "orientation": "v",
         "showlegend": true,
         "textposition": "auto",
         "type": "bar",
         "x": [
          "1조",
          "4조"
         ],
         "xaxis": "x",
         "y": [
          1,
          2
         ],
         "yaxis": "y"
        },
        {
         "alignmentgroup": "True",
         "hovertemplate": "SPEC=NV-D36-TM<br>WORK_GR=%{x}<br>PLATE_NO=%{y}<extra></extra>",
         "legendgroup": "NV-D36-TM",
         "marker": {
          "color": "#FF6692",
          "pattern": {
           "shape": ""
          }
         },
         "name": "NV-D36-TM",
         "offsetgroup": "NV-D36-TM",
         "orientation": "v",
         "showlegend": true,
         "textposition": "auto",
         "type": "bar",
         "x": [
          "1조",
          "2조",
          "3조"
         ],
         "xaxis": "x",
         "y": [
          1,
          1,
          3
         ],
         "yaxis": "y"
        },
        {
         "alignmentgroup": "True",
         "hovertemplate": "SPEC=NV-E36-TM<br>WORK_GR=%{x}<br>PLATE_NO=%{y}<extra></extra>",
         "legendgroup": "NV-E36-TM",
         "marker": {
          "color": "#B6E880",
          "pattern": {
           "shape": ""
          }
         },
         "name": "NV-E36-TM",
         "offsetgroup": "NV-E36-TM",
         "orientation": "v",
         "showlegend": true,
         "textposition": "auto",
         "type": "bar",
         "x": [
          "1조",
          "3조",
          "4조"
         ],
         "xaxis": "x",
         "y": [
          1,
          3,
          1
         ],
         "yaxis": "y"
        },
        {
         "alignmentgroup": "True",
         "hovertemplate": "SPEC=PILAC-BT33<br>WORK_GR=%{x}<br>PLATE_NO=%{y}<extra></extra>",
         "legendgroup": "PILAC-BT33",
         "marker": {
          "color": "#FF97FF",
          "pattern": {
           "shape": ""
          }
         },
         "name": "PILAC-BT33",
         "offsetgroup": "PILAC-BT33",
         "orientation": "v",
         "showlegend": true,
         "textposition": "auto",
         "type": "bar",
         "x": [
          "1조",
          "2조",
          "3조",
          "4조"
         ],
         "xaxis": "x",
         "y": [
          11,
          8,
          10,
          11
         ],
         "yaxis": "y"
        },
        {
         "alignmentgroup": "True",
         "hovertemplate": "SPEC=SA283-C<br>WORK_GR=%{x}<br>PLATE_NO=%{y}<extra></extra>",
         "legendgroup": "SA283-C",
         "marker": {
          "color": "#FECB52",
          "pattern": {
           "shape": ""
          }
         },
         "name": "SA283-C",
         "offsetgroup": "SA283-C",
         "orientation": "v",
         "showlegend": true,
         "textposition": "auto",
         "type": "bar",
         "x": [
          "1조",
          "2조",
          "3조",
          "4조"
         ],
         "xaxis": "x",
         "y": [
          2,
          5,
          8,
          6
         ],
         "yaxis": "y"
        },
        {
         "alignmentgroup": "True",
         "hovertemplate": "SPEC=V42JBN3<br>WORK_GR=%{x}<br>PLATE_NO=%{y}<extra></extra>",
         "legendgroup": "V42JBN3",
         "marker": {
          "color": "#636efa",
          "pattern": {
           "shape": ""
          }
         },
         "name": "V42JBN3",
         "offsetgroup": "V42JBN3",
         "orientation": "v",
         "showlegend": true,
         "textposition": "auto",
         "type": "bar",
         "x": [
          "1조",
          "2조"
         ],
         "xaxis": "x",
         "y": [
          1,
          3
         ],
         "yaxis": "y"
        },
        {
         "alignmentgroup": "True",
         "hovertemplate": "SPEC=A283-C<br>WORK_GR=%{x}<br>PLATE_NO=%{y}<extra></extra>",
         "legendgroup": "A283-C",
         "marker": {
          "color": "#EF553B",
          "pattern": {
           "shape": ""
          }
         },
         "name": "A283-C",
         "offsetgroup": "A283-C",
         "orientation": "v",
         "showlegend": true,
         "textposition": "auto",
         "type": "bar",
         "x": [
          "2조",
          "3조",
          "4조"
         ],
         "xaxis": "x",
         "y": [
          2,
          2,
          2
         ],
         "yaxis": "y"
        },
        {
         "alignmentgroup": "True",
         "hovertemplate": "SPEC=A516-60<br>WORK_GR=%{x}<br>PLATE_NO=%{y}<extra></extra>",
         "legendgroup": "A516-60",
         "marker": {
          "color": "#00cc96",
          "pattern": {
           "shape": ""
          }
         },
         "name": "A516-60",
         "offsetgroup": "A516-60",
         "orientation": "v",
         "showlegend": true,
         "textposition": "auto",
         "type": "bar",
         "x": [
          "2조",
          "3조"
         ],
         "xaxis": "x",
         "y": [
          1,
          1
         ],
         "yaxis": "y"
        },
        {
         "alignmentgroup": "True",
         "hovertemplate": "SPEC=A709-36<br>WORK_GR=%{x}<br>PLATE_NO=%{y}<extra></extra>",
         "legendgroup": "A709-36",
         "marker": {
          "color": "#ab63fa",
          "pattern": {
           "shape": ""
          }
         },
         "name": "A709-36",
         "offsetgroup": "A709-36",
         "orientation": "v",
         "showlegend": true,
         "textposition": "auto",
         "type": "bar",
         "x": [
          "2조"
         ],
         "xaxis": "x",
         "y": [
          1
         ],
         "yaxis": "y"
        },
        {
         "alignmentgroup": "True",
         "hovertemplate": "SPEC=AB/AH32<br>WORK_GR=%{x}<br>PLATE_NO=%{y}<extra></extra>",
         "legendgroup": "AB/AH32",
         "marker": {
          "color": "#FFA15A",
          "pattern": {
           "shape": ""
          }
         },
         "name": "AB/AH32",
         "offsetgroup": "AB/AH32",
         "orientation": "v",
         "showlegend": true,
         "textposition": "auto",
         "type": "bar",
         "x": [
          "2조",
          "4조"
         ],
         "xaxis": "x",
         "y": [
          2,
          3
         ],
         "yaxis": "y"
        },
        {
         "alignmentgroup": "True",
         "hovertemplate": "SPEC=AB/B<br>WORK_GR=%{x}<br>PLATE_NO=%{y}<extra></extra>",
         "legendgroup": "AB/B",
         "marker": {
          "color": "#19d3f3",
          "pattern": {
           "shape": ""
          }
         },
         "name": "AB/B",
         "offsetgroup": "AB/B",
         "orientation": "v",
         "showlegend": true,
         "textposition": "auto",
         "type": "bar",
         "x": [
          "2조",
          "3조",
          "4조"
         ],
         "xaxis": "x",
         "y": [
          3,
          1,
          2
         ],
         "yaxis": "y"
        },
        {
         "alignmentgroup": "True",
         "hovertemplate": "SPEC=AB/EH32-TM<br>WORK_GR=%{x}<br>PLATE_NO=%{y}<extra></extra>",
         "legendgroup": "AB/EH32-TM",
         "marker": {
          "color": "#FF6692",
          "pattern": {
           "shape": ""
          }
         },
         "name": "AB/EH32-TM",
         "offsetgroup": "AB/EH32-TM",
         "orientation": "v",
         "showlegend": true,
         "textposition": "auto",
         "type": "bar",
         "x": [
          "2조"
         ],
         "xaxis": "x",
         "y": [
          2
         ],
         "yaxis": "y"
        },
        {
         "alignmentgroup": "True",
         "hovertemplate": "SPEC=BV-A<br>WORK_GR=%{x}<br>PLATE_NO=%{y}<extra></extra>",
         "legendgroup": "BV-A",
         "marker": {
          "color": "#B6E880",
          "pattern": {
           "shape": ""
          }
         },
         "name": "BV-A",
         "offsetgroup": "BV-A",
         "orientation": "v",
         "showlegend": true,
         "textposition": "auto",
         "type": "bar",
         "x": [
          "2조"
         ],
         "xaxis": "x",
         "y": [
          1
         ],
         "yaxis": "y"
        },
        {
         "alignmentgroup": "True",
         "hovertemplate": "SPEC=BV-AH36-TL<br>WORK_GR=%{x}<br>PLATE_NO=%{y}<extra></extra>",
         "legendgroup": "BV-AH36-TL",
         "marker": {
          "color": "#FF97FF",
          "pattern": {
           "shape": ""
          }
         },
         "name": "BV-AH36-TL",
         "offsetgroup": "BV-AH36-TL",
         "orientation": "v",
         "showlegend": true,
         "textposition": "auto",
         "type": "bar",
         "x": [
          "2조",
          "3조",
          "4조"
         ],
         "xaxis": "x",
         "y": [
          1,
          1,
          1
         ],
         "yaxis": "y"
        },
        {
         "alignmentgroup": "True",
         "hovertemplate": "SPEC=GL-E32-TM<br>WORK_GR=%{x}<br>PLATE_NO=%{y}<extra></extra>",
         "legendgroup": "GL-E32-TM",
         "marker": {
          "color": "#FECB52",
          "pattern": {
           "shape": ""
          }
         },
         "name": "GL-E32-TM",
         "offsetgroup": "GL-E32-TM",
         "orientation": "v",
         "showlegend": true,
         "textposition": "auto",
         "type": "bar",
         "x": [
          "2조",
          "3조"
         ],
         "xaxis": "x",
         "y": [
          4,
          2
         ],
         "yaxis": "y"
        },
        {
         "alignmentgroup": "True",
         "hovertemplate": "SPEC=KR-AH32<br>WORK_GR=%{x}<br>PLATE_NO=%{y}<extra></extra>",
         "legendgroup": "KR-AH32",
         "marker": {
          "color": "#636efa",
          "pattern": {
           "shape": ""
          }
         },
         "name": "KR-AH32",
         "offsetgroup": "KR-AH32",
         "orientation": "v",
         "showlegend": true,
         "textposition": "auto",
         "type": "bar",
         "x": [
          "2조",
          "4조"
         ],
         "xaxis": "x",
         "y": [
          1,
          2
         ],
         "yaxis": "y"
        },
        {
         "alignmentgroup": "True",
         "hovertemplate": "SPEC=KR-B<br>WORK_GR=%{x}<br>PLATE_NO=%{y}<extra></extra>",
         "legendgroup": "KR-B",
         "marker": {
          "color": "#EF553B",
          "pattern": {
           "shape": ""
          }
         },
         "name": "KR-B",
         "offsetgroup": "KR-B",
         "orientation": "v",
         "showlegend": true,
         "textposition": "auto",
         "type": "bar",
         "x": [
          "2조"
         ],
         "xaxis": "x",
         "y": [
          1
         ],
         "yaxis": "y"
        },
        {
         "alignmentgroup": "True",
         "hovertemplate": "SPEC=LR-AH36-TM<br>WORK_GR=%{x}<br>PLATE_NO=%{y}<extra></extra>",
         "legendgroup": "LR-AH36-TM",
         "marker": {
          "color": "#00cc96",
          "pattern": {
           "shape": ""
          }
         },
         "name": "LR-AH36-TM",
         "offsetgroup": "LR-AH36-TM",
         "orientation": "v",
         "showlegend": true,
         "textposition": "auto",
         "type": "bar",
         "x": [
          "2조"
         ],
         "xaxis": "x",
         "y": [
          1
         ],
         "yaxis": "y"
        },
        {
         "alignmentgroup": "True",
         "hovertemplate": "SPEC=NK-KA<br>WORK_GR=%{x}<br>PLATE_NO=%{y}<extra></extra>",
         "legendgroup": "NK-KA",
         "marker": {
          "color": "#ab63fa",
          "pattern": {
           "shape": ""
          }
         },
         "name": "NK-KA",
         "offsetgroup": "NK-KA",
         "orientation": "v",
         "showlegend": true,
         "textposition": "auto",
         "type": "bar",
         "x": [
          "2조",
          "4조"
         ],
         "xaxis": "x",
         "y": [
          2,
          3
         ],
         "yaxis": "y"
        },
        {
         "alignmentgroup": "True",
         "hovertemplate": "SPEC=NK-KD36-TM<br>WORK_GR=%{x}<br>PLATE_NO=%{y}<extra></extra>",
         "legendgroup": "NK-KD36-TM",
         "marker": {
          "color": "#FFA15A",
          "pattern": {
           "shape": ""
          }
         },
         "name": "NK-KD36-TM",
         "offsetgroup": "NK-KD36-TM",
         "orientation": "v",
         "showlegend": true,
         "textposition": "auto",
         "type": "bar",
         "x": [
          "2조"
         ],
         "xaxis": "x",
         "y": [
          2
         ],
         "yaxis": "y"
        },
        {
         "alignmentgroup": "True",
         "hovertemplate": "SPEC=NV-B<br>WORK_GR=%{x}<br>PLATE_NO=%{y}<extra></extra>",
         "legendgroup": "NV-B",
         "marker": {
          "color": "#19d3f3",
          "pattern": {
           "shape": ""
          }
         },
         "name": "NV-B",
         "offsetgroup": "NV-B",
         "orientation": "v",
         "showlegend": true,
         "textposition": "auto",
         "type": "bar",
         "x": [
          "2조",
          "4조"
         ],
         "xaxis": "x",
         "y": [
          1,
          2
         ],
         "yaxis": "y"
        },
        {
         "alignmentgroup": "True",
         "hovertemplate": "SPEC=NV-D32-TM<br>WORK_GR=%{x}<br>PLATE_NO=%{y}<extra></extra>",
         "legendgroup": "NV-D32-TM",
         "marker": {
          "color": "#FF6692",
          "pattern": {
           "shape": ""
          }
         },
         "name": "NV-D32-TM",
         "offsetgroup": "NV-D32-TM",
         "orientation": "v",
         "showlegend": true,
         "textposition": "auto",
         "type": "bar",
         "x": [
          "2조",
          "3조",
          "4조"
         ],
         "xaxis": "x",
         "y": [
          1,
          1,
          2
         ],
         "yaxis": "y"
        },
        {
         "alignmentgroup": "True",
         "hovertemplate": "SPEC=A131-DH36TM<br>WORK_GR=%{x}<br>PLATE_NO=%{y}<extra></extra>",
         "legendgroup": "A131-DH36TM",
         "marker": {
          "color": "#B6E880",
          "pattern": {
           "shape": ""
          }
         },
         "name": "A131-DH36TM",
         "offsetgroup": "A131-DH36TM",
         "orientation": "v",
         "showlegend": true,
         "textposition": "auto",
         "type": "bar",
         "x": [
          "3조"
         ],
         "xaxis": "x",
         "y": [
          1
         ],
         "yaxis": "y"
        },
        {
         "alignmentgroup": "True",
         "hovertemplate": "SPEC=JS-SM400A<br>WORK_GR=%{x}<br>PLATE_NO=%{y}<extra></extra>",
         "legendgroup": "JS-SM400A",
         "marker": {
          "color": "#FF97FF",
          "pattern": {
           "shape": ""
          }
         },
         "name": "JS-SM400A",
         "offsetgroup": "JS-SM400A",
         "orientation": "v",
         "showlegend": true,
         "textposition": "auto",
         "type": "bar",
         "x": [
          "3조",
          "4조"
         ],
         "xaxis": "x",
         "y": [
          1,
          1
         ],
         "yaxis": "y"
        },
        {
         "alignmentgroup": "True",
         "hovertemplate": "SPEC=LR-EH32-TM<br>WORK_GR=%{x}<br>PLATE_NO=%{y}<extra></extra>",
         "legendgroup": "LR-EH32-TM",
         "marker": {
          "color": "#FECB52",
          "pattern": {
           "shape": ""
          }
         },
         "name": "LR-EH32-TM",
         "offsetgroup": "LR-EH32-TM",
         "orientation": "v",
         "showlegend": true,
         "textposition": "auto",
         "type": "bar",
         "x": [
          "3조"
         ],
         "xaxis": "x",
         "y": [
          1
         ],
         "yaxis": "y"
        },
        {
         "alignmentgroup": "True",
         "hovertemplate": "SPEC=NV-A36-TM<br>WORK_GR=%{x}<br>PLATE_NO=%{y}<extra></extra>",
         "legendgroup": "NV-A36-TM",
         "marker": {
          "color": "#636efa",
          "pattern": {
           "shape": ""
          }
         },
         "name": "NV-A36-TM",
         "offsetgroup": "NV-A36-TM",
         "orientation": "v",
         "showlegend": true,
         "textposition": "auto",
         "type": "bar",
         "x": [
          "3조"
         ],
         "xaxis": "x",
         "y": [
          2
         ],
         "yaxis": "y"
        },
        {
         "alignmentgroup": "True",
         "hovertemplate": "SPEC=NV-E32-TM<br>WORK_GR=%{x}<br>PLATE_NO=%{y}<extra></extra>",
         "legendgroup": "NV-E32-TM",
         "marker": {
          "color": "#EF553B",
          "pattern": {
           "shape": ""
          }
         },
         "name": "NV-E32-TM",
         "offsetgroup": "NV-E32-TM",
         "orientation": "v",
         "showlegend": true,
         "textposition": "auto",
         "type": "bar",
         "x": [
          "3조",
          "4조"
         ],
         "xaxis": "x",
         "y": [
          1,
          1
         ],
         "yaxis": "y"
        },
        {
         "alignmentgroup": "True",
         "hovertemplate": "SPEC=BV-AH36-TM<br>WORK_GR=%{x}<br>PLATE_NO=%{y}<extra></extra>",
         "legendgroup": "BV-AH36-TM",
         "marker": {
          "color": "#00cc96",
          "pattern": {
           "shape": ""
          }
         },
         "name": "BV-AH36-TM",
         "offsetgroup": "BV-AH36-TM",
         "orientation": "v",
         "showlegend": true,
         "textposition": "auto",
         "type": "bar",
         "x": [
          "4조"
         ],
         "xaxis": "x",
         "y": [
          1
         ],
         "yaxis": "y"
        },
        {
         "alignmentgroup": "True",
         "hovertemplate": "SPEC=CCS-B<br>WORK_GR=%{x}<br>PLATE_NO=%{y}<extra></extra>",
         "legendgroup": "CCS-B",
         "marker": {
          "color": "#ab63fa",
          "pattern": {
           "shape": ""
          }
         },
         "name": "CCS-B",
         "offsetgroup": "CCS-B",
         "orientation": "v",
         "showlegend": true,
         "textposition": "auto",
         "type": "bar",
         "x": [
          "4조"
         ],
         "xaxis": "x",
         "y": [
          1
         ],
         "yaxis": "y"
        },
        {
         "alignmentgroup": "True",
         "hovertemplate": "SPEC=KS-HSB500<br>WORK_GR=%{x}<br>PLATE_NO=%{y}<extra></extra>",
         "legendgroup": "KS-HSB500",
         "marker": {
          "color": "#FFA15A",
          "pattern": {
           "shape": ""
          }
         },
         "name": "KS-HSB500",
         "offsetgroup": "KS-HSB500",
         "orientation": "v",
         "showlegend": true,
         "textposition": "auto",
         "type": "bar",
         "x": [
          "4조"
         ],
         "xaxis": "x",
         "y": [
          2
         ],
         "yaxis": "y"
        },
        {
         "alignmentgroup": "True",
         "hovertemplate": "SPEC=LR-AH36<br>WORK_GR=%{x}<br>PLATE_NO=%{y}<extra></extra>",
         "legendgroup": "LR-AH36",
         "marker": {
          "color": "#19d3f3",
          "pattern": {
           "shape": ""
          }
         },
         "name": "LR-AH36",
         "offsetgroup": "LR-AH36",
         "orientation": "v",
         "showlegend": true,
         "textposition": "auto",
         "type": "bar",
         "x": [
          "4조"
         ],
         "xaxis": "x",
         "y": [
          1
         ],
         "yaxis": "y"
        }
       ],
       "layout": {
        "barmode": "relative",
        "legend": {
         "title": {
          "text": "SPEC"
         },
         "tracegroupgap": 0
        },
        "margin": {
         "t": 60
        },
        "template": {
         "data": {
          "bar": [
           {
            "error_x": {
             "color": "#2a3f5f"
            },
            "error_y": {
             "color": "#2a3f5f"
            },
            "marker": {
             "line": {
              "color": "#E5ECF6",
              "width": 0.5
             },
             "pattern": {
              "fillmode": "overlay",
              "size": 10,
              "solidity": 0.2
             }
            },
            "type": "bar"
           }
          ],
          "barpolar": [
           {
            "marker": {
             "line": {
              "color": "#E5ECF6",
              "width": 0.5
             },
             "pattern": {
              "fillmode": "overlay",
              "size": 10,
              "solidity": 0.2
             }
            },
            "type": "barpolar"
           }
          ],
          "carpet": [
           {
            "aaxis": {
             "endlinecolor": "#2a3f5f",
             "gridcolor": "white",
             "linecolor": "white",
             "minorgridcolor": "white",
             "startlinecolor": "#2a3f5f"
            },
            "baxis": {
             "endlinecolor": "#2a3f5f",
             "gridcolor": "white",
             "linecolor": "white",
             "minorgridcolor": "white",
             "startlinecolor": "#2a3f5f"
            },
            "type": "carpet"
           }
          ],
          "choropleth": [
           {
            "colorbar": {
             "outlinewidth": 0,
             "ticks": ""
            },
            "type": "choropleth"
           }
          ],
          "contour": [
           {
            "colorbar": {
             "outlinewidth": 0,
             "ticks": ""
            },
            "colorscale": [
             [
              0,
              "#0d0887"
             ],
             [
              0.1111111111111111,
              "#46039f"
             ],
             [
              0.2222222222222222,
              "#7201a8"
             ],
             [
              0.3333333333333333,
              "#9c179e"
             ],
             [
              0.4444444444444444,
              "#bd3786"
             ],
             [
              0.5555555555555556,
              "#d8576b"
             ],
             [
              0.6666666666666666,
              "#ed7953"
             ],
             [
              0.7777777777777778,
              "#fb9f3a"
             ],
             [
              0.8888888888888888,
              "#fdca26"
             ],
             [
              1,
              "#f0f921"
             ]
            ],
            "type": "contour"
           }
          ],
          "contourcarpet": [
           {
            "colorbar": {
             "outlinewidth": 0,
             "ticks": ""
            },
            "type": "contourcarpet"
           }
          ],
          "heatmap": [
           {
            "colorbar": {
             "outlinewidth": 0,
             "ticks": ""
            },
            "colorscale": [
             [
              0,
              "#0d0887"
             ],
             [
              0.1111111111111111,
              "#46039f"
             ],
             [
              0.2222222222222222,
              "#7201a8"
             ],
             [
              0.3333333333333333,
              "#9c179e"
             ],
             [
              0.4444444444444444,
              "#bd3786"
             ],
             [
              0.5555555555555556,
              "#d8576b"
             ],
             [
              0.6666666666666666,
              "#ed7953"
             ],
             [
              0.7777777777777778,
              "#fb9f3a"
             ],
             [
              0.8888888888888888,
              "#fdca26"
             ],
             [
              1,
              "#f0f921"
             ]
            ],
            "type": "heatmap"
           }
          ],
          "heatmapgl": [
           {
            "colorbar": {
             "outlinewidth": 0,
             "ticks": ""
            },
            "colorscale": [
             [
              0,
              "#0d0887"
             ],
             [
              0.1111111111111111,
              "#46039f"
             ],
             [
              0.2222222222222222,
              "#7201a8"
             ],
             [
              0.3333333333333333,
              "#9c179e"
             ],
             [
              0.4444444444444444,
              "#bd3786"
             ],
             [
              0.5555555555555556,
              "#d8576b"
             ],
             [
              0.6666666666666666,
              "#ed7953"
             ],
             [
              0.7777777777777778,
              "#fb9f3a"
             ],
             [
              0.8888888888888888,
              "#fdca26"
             ],
             [
              1,
              "#f0f921"
             ]
            ],
            "type": "heatmapgl"
           }
          ],
          "histogram": [
           {
            "marker": {
             "pattern": {
              "fillmode": "overlay",
              "size": 10,
              "solidity": 0.2
             }
            },
            "type": "histogram"
           }
          ],
          "histogram2d": [
           {
            "colorbar": {
             "outlinewidth": 0,
             "ticks": ""
            },
            "colorscale": [
             [
              0,
              "#0d0887"
             ],
             [
              0.1111111111111111,
              "#46039f"
             ],
             [
              0.2222222222222222,
              "#7201a8"
             ],
             [
              0.3333333333333333,
              "#9c179e"
             ],
             [
              0.4444444444444444,
              "#bd3786"
             ],
             [
              0.5555555555555556,
              "#d8576b"
             ],
             [
              0.6666666666666666,
              "#ed7953"
             ],
             [
              0.7777777777777778,
              "#fb9f3a"
             ],
             [
              0.8888888888888888,
              "#fdca26"
             ],
             [
              1,
              "#f0f921"
             ]
            ],
            "type": "histogram2d"
           }
          ],
          "histogram2dcontour": [
           {
            "colorbar": {
             "outlinewidth": 0,
             "ticks": ""
            },
            "colorscale": [
             [
              0,
              "#0d0887"
             ],
             [
              0.1111111111111111,
              "#46039f"
             ],
             [
              0.2222222222222222,
              "#7201a8"
             ],
             [
              0.3333333333333333,
              "#9c179e"
             ],
             [
              0.4444444444444444,
              "#bd3786"
             ],
             [
              0.5555555555555556,
              "#d8576b"
             ],
             [
              0.6666666666666666,
              "#ed7953"
             ],
             [
              0.7777777777777778,
              "#fb9f3a"
             ],
             [
              0.8888888888888888,
              "#fdca26"
             ],
             [
              1,
              "#f0f921"
             ]
            ],
            "type": "histogram2dcontour"
           }
          ],
          "mesh3d": [
           {
            "colorbar": {
             "outlinewidth": 0,
             "ticks": ""
            },
            "type": "mesh3d"
           }
          ],
          "parcoords": [
           {
            "line": {
             "colorbar": {
              "outlinewidth": 0,
              "ticks": ""
             }
            },
            "type": "parcoords"
           }
          ],
          "pie": [
           {
            "automargin": true,
            "type": "pie"
           }
          ],
          "scatter": [
           {
            "marker": {
             "colorbar": {
              "outlinewidth": 0,
              "ticks": ""
             }
            },
            "type": "scatter"
           }
          ],
          "scatter3d": [
           {
            "line": {
             "colorbar": {
              "outlinewidth": 0,
              "ticks": ""
             }
            },
            "marker": {
             "colorbar": {
              "outlinewidth": 0,
              "ticks": ""
             }
            },
            "type": "scatter3d"
           }
          ],
          "scattercarpet": [
           {
            "marker": {
             "colorbar": {
              "outlinewidth": 0,
              "ticks": ""
             }
            },
            "type": "scattercarpet"
           }
          ],
          "scattergeo": [
           {
            "marker": {
             "colorbar": {
              "outlinewidth": 0,
              "ticks": ""
             }
            },
            "type": "scattergeo"
           }
          ],
          "scattergl": [
           {
            "marker": {
             "colorbar": {
              "outlinewidth": 0,
              "ticks": ""
             }
            },
            "type": "scattergl"
           }
          ],
          "scattermapbox": [
           {
            "marker": {
             "colorbar": {
              "outlinewidth": 0,
              "ticks": ""
             }
            },
            "type": "scattermapbox"
           }
          ],
          "scatterpolar": [
           {
            "marker": {
             "colorbar": {
              "outlinewidth": 0,
              "ticks": ""
             }
            },
            "type": "scatterpolar"
           }
          ],
          "scatterpolargl": [
           {
            "marker": {
             "colorbar": {
              "outlinewidth": 0,
              "ticks": ""
             }
            },
            "type": "scatterpolargl"
           }
          ],
          "scatterternary": [
           {
            "marker": {
             "colorbar": {
              "outlinewidth": 0,
              "ticks": ""
             }
            },
            "type": "scatterternary"
           }
          ],
          "surface": [
           {
            "colorbar": {
             "outlinewidth": 0,
             "ticks": ""
            },
            "colorscale": [
             [
              0,
              "#0d0887"
             ],
             [
              0.1111111111111111,
              "#46039f"
             ],
             [
              0.2222222222222222,
              "#7201a8"
             ],
             [
              0.3333333333333333,
              "#9c179e"
             ],
             [
              0.4444444444444444,
              "#bd3786"
             ],
             [
              0.5555555555555556,
              "#d8576b"
             ],
             [
              0.6666666666666666,
              "#ed7953"
             ],
             [
              0.7777777777777778,
              "#fb9f3a"
             ],
             [
              0.8888888888888888,
              "#fdca26"
             ],
             [
              1,
              "#f0f921"
             ]
            ],
            "type": "surface"
           }
          ],
          "table": [
           {
            "cells": {
             "fill": {
              "color": "#EBF0F8"
             },
             "line": {
              "color": "white"
             }
            },
            "header": {
             "fill": {
              "color": "#C8D4E3"
             },
             "line": {
              "color": "white"
             }
            },
            "type": "table"
           }
          ]
         },
         "layout": {
          "annotationdefaults": {
           "arrowcolor": "#2a3f5f",
           "arrowhead": 0,
           "arrowwidth": 1
          },
          "autotypenumbers": "strict",
          "coloraxis": {
           "colorbar": {
            "outlinewidth": 0,
            "ticks": ""
           }
          },
          "colorscale": {
           "diverging": [
            [
             0,
             "#8e0152"
            ],
            [
             0.1,
             "#c51b7d"
            ],
            [
             0.2,
             "#de77ae"
            ],
            [
             0.3,
             "#f1b6da"
            ],
            [
             0.4,
             "#fde0ef"
            ],
            [
             0.5,
             "#f7f7f7"
            ],
            [
             0.6,
             "#e6f5d0"
            ],
            [
             0.7,
             "#b8e186"
            ],
            [
             0.8,
             "#7fbc41"
            ],
            [
             0.9,
             "#4d9221"
            ],
            [
             1,
             "#276419"
            ]
           ],
           "sequential": [
            [
             0,
             "#0d0887"
            ],
            [
             0.1111111111111111,
             "#46039f"
            ],
            [
             0.2222222222222222,
             "#7201a8"
            ],
            [
             0.3333333333333333,
             "#9c179e"
            ],
            [
             0.4444444444444444,
             "#bd3786"
            ],
            [
             0.5555555555555556,
             "#d8576b"
            ],
            [
             0.6666666666666666,
             "#ed7953"
            ],
            [
             0.7777777777777778,
             "#fb9f3a"
            ],
            [
             0.8888888888888888,
             "#fdca26"
            ],
            [
             1,
             "#f0f921"
            ]
           ],
           "sequentialminus": [
            [
             0,
             "#0d0887"
            ],
            [
             0.1111111111111111,
             "#46039f"
            ],
            [
             0.2222222222222222,
             "#7201a8"
            ],
            [
             0.3333333333333333,
             "#9c179e"
            ],
            [
             0.4444444444444444,
             "#bd3786"
            ],
            [
             0.5555555555555556,
             "#d8576b"
            ],
            [
             0.6666666666666666,
             "#ed7953"
            ],
            [
             0.7777777777777778,
             "#fb9f3a"
            ],
            [
             0.8888888888888888,
             "#fdca26"
            ],
            [
             1,
             "#f0f921"
            ]
           ]
          },
          "colorway": [
           "#636efa",
           "#EF553B",
           "#00cc96",
           "#ab63fa",
           "#FFA15A",
           "#19d3f3",
           "#FF6692",
           "#B6E880",
           "#FF97FF",
           "#FECB52"
          ],
          "font": {
           "color": "#2a3f5f"
          },
          "geo": {
           "bgcolor": "white",
           "lakecolor": "white",
           "landcolor": "#E5ECF6",
           "showlakes": true,
           "showland": true,
           "subunitcolor": "white"
          },
          "hoverlabel": {
           "align": "left"
          },
          "hovermode": "closest",
          "mapbox": {
           "style": "light"
          },
          "paper_bgcolor": "white",
          "plot_bgcolor": "#E5ECF6",
          "polar": {
           "angularaxis": {
            "gridcolor": "white",
            "linecolor": "white",
            "ticks": ""
           },
           "bgcolor": "#E5ECF6",
           "radialaxis": {
            "gridcolor": "white",
            "linecolor": "white",
            "ticks": ""
           }
          },
          "scene": {
           "xaxis": {
            "backgroundcolor": "#E5ECF6",
            "gridcolor": "white",
            "gridwidth": 2,
            "linecolor": "white",
            "showbackground": true,
            "ticks": "",
            "zerolinecolor": "white"
           },
           "yaxis": {
            "backgroundcolor": "#E5ECF6",
            "gridcolor": "white",
            "gridwidth": 2,
            "linecolor": "white",
            "showbackground": true,
            "ticks": "",
            "zerolinecolor": "white"
           },
           "zaxis": {
            "backgroundcolor": "#E5ECF6",
            "gridcolor": "white",
            "gridwidth": 2,
            "linecolor": "white",
            "showbackground": true,
            "ticks": "",
            "zerolinecolor": "white"
           }
          },
          "shapedefaults": {
           "line": {
            "color": "#2a3f5f"
           }
          },
          "ternary": {
           "aaxis": {
            "gridcolor": "white",
            "linecolor": "white",
            "ticks": ""
           },
           "baxis": {
            "gridcolor": "white",
            "linecolor": "white",
            "ticks": ""
           },
           "bgcolor": "#E5ECF6",
           "caxis": {
            "gridcolor": "white",
            "linecolor": "white",
            "ticks": ""
           }
          },
          "title": {
           "x": 0.05
          },
          "xaxis": {
           "automargin": true,
           "gridcolor": "white",
           "linecolor": "white",
           "ticks": "",
           "title": {
            "standoff": 15
           },
           "zerolinecolor": "white",
           "zerolinewidth": 2
          },
          "yaxis": {
           "automargin": true,
           "gridcolor": "white",
           "linecolor": "white",
           "ticks": "",
           "title": {
            "standoff": 15
           },
           "zerolinecolor": "white",
           "zerolinewidth": 2
          }
         }
        },
        "xaxis": {
         "anchor": "y",
         "domain": [
          0,
          1
         ],
         "title": {
          "text": "WORK_GR"
         }
        },
        "yaxis": {
         "anchor": "x",
         "domain": [
          0,
          1
         ],
         "title": {
          "text": "PLATE_NO"
         }
        }
       }
      }
     },
     "metadata": {},
     "output_type": "display_data"
    }
   ],
   "source": [
    "fig01 = px.bar(plt01, x='WORK_GR', y='PLATE_NO', color='SPEC')\n",
    "fig01.show()"
   ]
  },
  {
   "cell_type": "markdown",
   "metadata": {},
   "source": [
    "- 2, 4조가 적은 양으로 많은 규격을 생산하는 것으로 보아 좀 더 전문성이 있는 그룹이라 판단할 수 있다.\n",
    "- JS-SM490YB가 모든 조에서 많이 만들어내고 있으며 많이 쓰는 부품임을 알 수 있다.\n",
    "- 또한 JS-SM490YB를 4조에서 가장 많이 생산하고 있어 1번 인사이트에 더해 4조가 가장 전문성 있는 그룹임을 추측해볼 수 있다.\n",
    "- 1조에서는 생산하는 부품을 다른 조에 비해 많은 양을 생산하고 있어 전문성이 떨어지며 대량 생산을 하는 그룹임을 추측해볼 수 있다.\n",
    "- 위의 정보들을 통해 4조가 가장 양품율이 높고 1조가 낮음을 추측할 수 있다."
   ]
  },
  {
   "cell_type": "markdown",
   "metadata": {},
   "source": [
    "### ROLLING_DESCALING 작업 횟수 별 HSB 적용여부에 따른 양품 여부"
   ]
  },
  {
   "cell_type": "code",
   "execution_count": null,
   "metadata": {},
   "outputs": [],
   "source": []
  }
 ],
 "metadata": {
  "kernelspec": {
   "display_name": "Python 3.9.12 ('base')",
   "language": "python",
   "name": "python3"
  },
  "language_info": {
   "codemirror_mode": {
    "name": "ipython",
    "version": 3
   },
   "file_extension": ".py",
   "mimetype": "text/x-python",
   "name": "python",
   "nbconvert_exporter": "python",
   "pygments_lexer": "ipython3",
   "version": "3.9.12"
  },
  "orig_nbformat": 4,
  "vscode": {
   "interpreter": {
    "hash": "ff4f85d6e04298634172ac5d8264e7e9b556b95639fe52ebb9425c4d4cba0c9c"
   }
  }
 },
 "nbformat": 4,
 "nbformat_minor": 2
}
